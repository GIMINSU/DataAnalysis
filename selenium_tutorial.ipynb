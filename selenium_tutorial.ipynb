{
 "cells": [
  {
   "cell_type": "code",
   "execution_count": 1,
   "metadata": {},
   "outputs": [],
   "source": [
    "from selenium import webdriver\n",
    "# chrome_options = webdriver.ChromeOptions()\n",
    "# chrome_options.add_argument(\"--incognito\")\n",
    "# chrome_options.add_argument(\"--headless\")\n",
    "# chrome_options.add_argument(\"--no-sandbox\")\n",
    "# chrome_options.add_argument(\"--disable-setuid-sandbox\")\n",
    "# chrome_options.add_argument(\"--disable-dev-shm-usage\")\n",
    "# chrome_options.add_experimental_option(\"excludeSwitches\", [\"enable-logging\"])\n",
    "from selenium.webdriver.common.by import By\n",
    "\n",
    "# pip install webdriver-manager  ## 항상 최신 버전의 chromedriver를 자동으로 사용\n",
    "from webdriver_manager.chrome import ChromeDriverManager\n",
    "from bs4 import BeautifulSoup\n",
    "import pandas as pd\n",
    "# 한국 주식 및 etf \n",
    "import FinanceDataReader as fdr\n"
   ]
  },
  {
   "cell_type": "code",
   "execution_count": 40,
   "metadata": {},
   "outputs": [
    {
     "name": "stderr",
     "output_type": "stream",
     "text": [
      "\n",
      "\n",
      "====== WebDriver manager ======\n",
      "Current google-chrome version is 100.0.4896\n",
      "Get LATEST chromedriver version for 100.0.4896 google-chrome\n",
      "Driver [C:\\Users\\is\\.wdm\\drivers\\chromedriver\\win32\\100.0.4896.60\\chromedriver.exe] found in cache\n",
      "C:\\Users\\is\\AppData\\Local\\Temp/ipykernel_5420/1189856750.py:1: DeprecationWarning: executable_path has been deprecated, please pass in a Service object\n",
      "  driver = webdriver.Chrome(ChromeDriverManager().install())\n",
      "C:\\Users\\is\\AppData\\Local\\Temp/ipykernel_5420/1189856750.py:9: DeprecationWarning: find_element_by_* commands are deprecated. Please use find_element() instead\n",
      "  driver.find_element_by_css_selector('#gridView1_cell_0_0').text\n"
     ]
    },
    {
     "data": {
      "text/plain": [
       "\" (대구경북)'포항 한신더휴 스카이' 중소기업 장기근속자 주택우선공급 기관추천 안내\""
      ]
     },
     "execution_count": 40,
     "metadata": {},
     "output_type": "execute_result"
    }
   ],
   "source": [
    "driver = webdriver.Chrome(ChromeDriverManager().install())\n",
    "url = \"https://www.smes.go.kr/sanhakin/websquare/wq_main.do\"\n",
    "driver.get(url)\n",
    "driver.implicitly_wait(10)\n",
    "driver.find_element(By.XPATH, '//*[@id=\"genTopMenu_2_liTopMenu\"]').click()\n",
    "driver.implicitly_wait(1)\n",
    "driver.find_element(By.XPATH, '//*[@id=\"genLeftMenu_3_leftMenuGrp\"]').click()\n",
    "driver.implicitly_wait(1)\n",
    "driver.find_element_by_css_selector('#gridView1_cell_0_0').text\n",
    "# r = driver.find_element(By.ID, 'gridView1_cell_0_0')\n",
    "# soup = BeautifulSoup(r, \"html.parser\")\n",
    "# soup\n",
    "# driver.quit()\n"
   ]
  },
  {
   "cell_type": "code",
   "execution_count": 39,
   "metadata": {},
   "outputs": [
    {
     "ename": "WebDriverException",
     "evalue": "Message: chrome not reachable\n  (Session info: chrome=100.0.4896.75)\nStacktrace:\nBacktrace:\n\tOrdinal0 [0x008F7413+2389011]\n\tOrdinal0 [0x00889F61+1941345]\n\tOrdinal0 [0x0077C520+836896]\n\tOrdinal0 [0x00770682+788098]\n\tOrdinal0 [0x00770EB8+790200]\n\tOrdinal0 [0x00772752+796498]\n\tOrdinal0 [0x0076C0D9+770265]\n\tOrdinal0 [0x0077D9D0+842192]\n\tOrdinal0 [0x007D3AE2+1194722]\n\tOrdinal0 [0x007C3F66+1130342]\n\tOrdinal0 [0x0079E546+976198]\n\tOrdinal0 [0x0079F456+980054]\n\tGetHandleVerifier [0x00AA9632+1727522]\n\tGetHandleVerifier [0x00B5BA4D+2457661]\n\tGetHandleVerifier [0x0098EB81+569713]\n\tGetHandleVerifier [0x0098DD76+566118]\n\tOrdinal0 [0x00890B2B+1968939]\n\tOrdinal0 [0x00895988+1989000]\n\tOrdinal0 [0x00895A75+1989237]\n\tOrdinal0 [0x0089ECB1+2026673]\n\tBaseThreadInitThunk [0x76ACFA29+25]\n\tRtlGetAppContainerNamedObjectPath [0x77767A7E+286]\n\tRtlGetAppContainerNamedObjectPath [0x77767A4E+238]\n",
     "output_type": "error",
     "traceback": [
      "\u001b[1;31m---------------------------------------------------------------------------\u001b[0m",
      "\u001b[1;31mWebDriverException\u001b[0m                        Traceback (most recent call last)",
      "\u001b[1;32m~\\AppData\\Local\\Temp/ipykernel_5420/553359386.py\u001b[0m in \u001b[0;36m<module>\u001b[1;34m\u001b[0m\n\u001b[1;32m----> 1\u001b[1;33m \u001b[0mr\u001b[0m\u001b[1;33m.\u001b[0m\u001b[0mtext\u001b[0m\u001b[1;33m\u001b[0m\u001b[1;33m\u001b[0m\u001b[0m\n\u001b[0m",
      "\u001b[1;32mC:\\Program Files\\Python38\\selenium\\webdriver\\remote\\webelement.py\u001b[0m in \u001b[0;36mtext\u001b[1;34m(self)\u001b[0m\n\u001b[0;32m     75\u001b[0m     \u001b[1;32mdef\u001b[0m \u001b[0mtext\u001b[0m\u001b[1;33m(\u001b[0m\u001b[0mself\u001b[0m\u001b[1;33m)\u001b[0m \u001b[1;33m->\u001b[0m \u001b[0mstr\u001b[0m\u001b[1;33m:\u001b[0m\u001b[1;33m\u001b[0m\u001b[1;33m\u001b[0m\u001b[0m\n\u001b[0;32m     76\u001b[0m         \u001b[1;34m\"\"\"The text of the element.\"\"\"\u001b[0m\u001b[1;33m\u001b[0m\u001b[1;33m\u001b[0m\u001b[0m\n\u001b[1;32m---> 77\u001b[1;33m         \u001b[1;32mreturn\u001b[0m \u001b[0mself\u001b[0m\u001b[1;33m.\u001b[0m\u001b[0m_execute\u001b[0m\u001b[1;33m(\u001b[0m\u001b[0mCommand\u001b[0m\u001b[1;33m.\u001b[0m\u001b[0mGET_ELEMENT_TEXT\u001b[0m\u001b[1;33m)\u001b[0m\u001b[1;33m[\u001b[0m\u001b[1;34m'value'\u001b[0m\u001b[1;33m]\u001b[0m\u001b[1;33m\u001b[0m\u001b[1;33m\u001b[0m\u001b[0m\n\u001b[0m\u001b[0;32m     78\u001b[0m \u001b[1;33m\u001b[0m\u001b[0m\n\u001b[0;32m     79\u001b[0m     \u001b[1;32mdef\u001b[0m \u001b[0mclick\u001b[0m\u001b[1;33m(\u001b[0m\u001b[0mself\u001b[0m\u001b[1;33m)\u001b[0m \u001b[1;33m->\u001b[0m \u001b[1;32mNone\u001b[0m\u001b[1;33m:\u001b[0m\u001b[1;33m\u001b[0m\u001b[1;33m\u001b[0m\u001b[0m\n",
      "\u001b[1;32mC:\\Program Files\\Python38\\selenium\\webdriver\\remote\\webelement.py\u001b[0m in \u001b[0;36m_execute\u001b[1;34m(self, command, params)\u001b[0m\n\u001b[0;32m    708\u001b[0m             \u001b[0mparams\u001b[0m \u001b[1;33m=\u001b[0m \u001b[1;33m{\u001b[0m\u001b[1;33m}\u001b[0m\u001b[1;33m\u001b[0m\u001b[1;33m\u001b[0m\u001b[0m\n\u001b[0;32m    709\u001b[0m         \u001b[0mparams\u001b[0m\u001b[1;33m[\u001b[0m\u001b[1;34m'id'\u001b[0m\u001b[1;33m]\u001b[0m \u001b[1;33m=\u001b[0m \u001b[0mself\u001b[0m\u001b[1;33m.\u001b[0m\u001b[0m_id\u001b[0m\u001b[1;33m\u001b[0m\u001b[1;33m\u001b[0m\u001b[0m\n\u001b[1;32m--> 710\u001b[1;33m         \u001b[1;32mreturn\u001b[0m \u001b[0mself\u001b[0m\u001b[1;33m.\u001b[0m\u001b[0m_parent\u001b[0m\u001b[1;33m.\u001b[0m\u001b[0mexecute\u001b[0m\u001b[1;33m(\u001b[0m\u001b[0mcommand\u001b[0m\u001b[1;33m,\u001b[0m \u001b[0mparams\u001b[0m\u001b[1;33m)\u001b[0m\u001b[1;33m\u001b[0m\u001b[1;33m\u001b[0m\u001b[0m\n\u001b[0m\u001b[0;32m    711\u001b[0m \u001b[1;33m\u001b[0m\u001b[0m\n\u001b[0;32m    712\u001b[0m     \u001b[1;32mdef\u001b[0m \u001b[0mfind_element\u001b[0m\u001b[1;33m(\u001b[0m\u001b[0mself\u001b[0m\u001b[1;33m,\u001b[0m \u001b[0mby\u001b[0m\u001b[1;33m=\u001b[0m\u001b[0mBy\u001b[0m\u001b[1;33m.\u001b[0m\u001b[0mID\u001b[0m\u001b[1;33m,\u001b[0m \u001b[0mvalue\u001b[0m\u001b[1;33m=\u001b[0m\u001b[1;32mNone\u001b[0m\u001b[1;33m)\u001b[0m\u001b[1;33m:\u001b[0m\u001b[1;33m\u001b[0m\u001b[1;33m\u001b[0m\u001b[0m\n",
      "\u001b[1;32mC:\\Program Files\\Python38\\selenium\\webdriver\\remote\\webdriver.py\u001b[0m in \u001b[0;36mexecute\u001b[1;34m(self, driver_command, params)\u001b[0m\n\u001b[0;32m    422\u001b[0m         \u001b[0mresponse\u001b[0m \u001b[1;33m=\u001b[0m \u001b[0mself\u001b[0m\u001b[1;33m.\u001b[0m\u001b[0mcommand_executor\u001b[0m\u001b[1;33m.\u001b[0m\u001b[0mexecute\u001b[0m\u001b[1;33m(\u001b[0m\u001b[0mdriver_command\u001b[0m\u001b[1;33m,\u001b[0m \u001b[0mparams\u001b[0m\u001b[1;33m)\u001b[0m\u001b[1;33m\u001b[0m\u001b[1;33m\u001b[0m\u001b[0m\n\u001b[0;32m    423\u001b[0m         \u001b[1;32mif\u001b[0m \u001b[0mresponse\u001b[0m\u001b[1;33m:\u001b[0m\u001b[1;33m\u001b[0m\u001b[1;33m\u001b[0m\u001b[0m\n\u001b[1;32m--> 424\u001b[1;33m             \u001b[0mself\u001b[0m\u001b[1;33m.\u001b[0m\u001b[0merror_handler\u001b[0m\u001b[1;33m.\u001b[0m\u001b[0mcheck_response\u001b[0m\u001b[1;33m(\u001b[0m\u001b[0mresponse\u001b[0m\u001b[1;33m)\u001b[0m\u001b[1;33m\u001b[0m\u001b[1;33m\u001b[0m\u001b[0m\n\u001b[0m\u001b[0;32m    425\u001b[0m             response['value'] = self._unwrap_value(\n\u001b[0;32m    426\u001b[0m                 response.get('value', None))\n",
      "\u001b[1;32mC:\\Program Files\\Python38\\selenium\\webdriver\\remote\\errorhandler.py\u001b[0m in \u001b[0;36mcheck_response\u001b[1;34m(self, response)\u001b[0m\n\u001b[0;32m    245\u001b[0m                 \u001b[0malert_text\u001b[0m \u001b[1;33m=\u001b[0m \u001b[0mvalue\u001b[0m\u001b[1;33m[\u001b[0m\u001b[1;34m'alert'\u001b[0m\u001b[1;33m]\u001b[0m\u001b[1;33m.\u001b[0m\u001b[0mget\u001b[0m\u001b[1;33m(\u001b[0m\u001b[1;34m'text'\u001b[0m\u001b[1;33m)\u001b[0m\u001b[1;33m\u001b[0m\u001b[1;33m\u001b[0m\u001b[0m\n\u001b[0;32m    246\u001b[0m             \u001b[1;32mraise\u001b[0m \u001b[0mexception_class\u001b[0m\u001b[1;33m(\u001b[0m\u001b[0mmessage\u001b[0m\u001b[1;33m,\u001b[0m \u001b[0mscreen\u001b[0m\u001b[1;33m,\u001b[0m \u001b[0mstacktrace\u001b[0m\u001b[1;33m,\u001b[0m \u001b[0malert_text\u001b[0m\u001b[1;33m)\u001b[0m  \u001b[1;31m# type: ignore[call-arg]  # mypy is not smart enough here\u001b[0m\u001b[1;33m\u001b[0m\u001b[1;33m\u001b[0m\u001b[0m\n\u001b[1;32m--> 247\u001b[1;33m         \u001b[1;32mraise\u001b[0m \u001b[0mexception_class\u001b[0m\u001b[1;33m(\u001b[0m\u001b[0mmessage\u001b[0m\u001b[1;33m,\u001b[0m \u001b[0mscreen\u001b[0m\u001b[1;33m,\u001b[0m \u001b[0mstacktrace\u001b[0m\u001b[1;33m)\u001b[0m\u001b[1;33m\u001b[0m\u001b[1;33m\u001b[0m\u001b[0m\n\u001b[0m\u001b[0;32m    248\u001b[0m \u001b[1;33m\u001b[0m\u001b[0m\n\u001b[0;32m    249\u001b[0m     \u001b[1;32mdef\u001b[0m \u001b[0m_value_or_default\u001b[0m\u001b[1;33m(\u001b[0m\u001b[0mself\u001b[0m\u001b[1;33m,\u001b[0m \u001b[0mobj\u001b[0m\u001b[1;33m:\u001b[0m \u001b[0mMapping\u001b[0m\u001b[1;33m[\u001b[0m\u001b[0m_KT\u001b[0m\u001b[1;33m,\u001b[0m \u001b[0m_VT\u001b[0m\u001b[1;33m]\u001b[0m\u001b[1;33m,\u001b[0m \u001b[0mkey\u001b[0m\u001b[1;33m:\u001b[0m \u001b[0m_KT\u001b[0m\u001b[1;33m,\u001b[0m \u001b[0mdefault\u001b[0m\u001b[1;33m:\u001b[0m \u001b[0m_VT\u001b[0m\u001b[1;33m)\u001b[0m \u001b[1;33m->\u001b[0m \u001b[0m_VT\u001b[0m\u001b[1;33m:\u001b[0m\u001b[1;33m\u001b[0m\u001b[1;33m\u001b[0m\u001b[0m\n",
      "\u001b[1;31mWebDriverException\u001b[0m: Message: chrome not reachable\n  (Session info: chrome=100.0.4896.75)\nStacktrace:\nBacktrace:\n\tOrdinal0 [0x008F7413+2389011]\n\tOrdinal0 [0x00889F61+1941345]\n\tOrdinal0 [0x0077C520+836896]\n\tOrdinal0 [0x00770682+788098]\n\tOrdinal0 [0x00770EB8+790200]\n\tOrdinal0 [0x00772752+796498]\n\tOrdinal0 [0x0076C0D9+770265]\n\tOrdinal0 [0x0077D9D0+842192]\n\tOrdinal0 [0x007D3AE2+1194722]\n\tOrdinal0 [0x007C3F66+1130342]\n\tOrdinal0 [0x0079E546+976198]\n\tOrdinal0 [0x0079F456+980054]\n\tGetHandleVerifier [0x00AA9632+1727522]\n\tGetHandleVerifier [0x00B5BA4D+2457661]\n\tGetHandleVerifier [0x0098EB81+569713]\n\tGetHandleVerifier [0x0098DD76+566118]\n\tOrdinal0 [0x00890B2B+1968939]\n\tOrdinal0 [0x00895988+1989000]\n\tOrdinal0 [0x00895A75+1989237]\n\tOrdinal0 [0x0089ECB1+2026673]\n\tBaseThreadInitThunk [0x76ACFA29+25]\n\tRtlGetAppContainerNamedObjectPath [0x77767A7E+286]\n\tRtlGetAppContainerNamedObjectPath [0x77767A4E+238]\n"
     ]
    }
   ],
   "source": [
    "r.text"
   ]
  },
  {
   "cell_type": "code",
   "execution_count": null,
   "metadata": {},
   "outputs": [],
   "source": []
  },
  {
   "cell_type": "code",
   "execution_count": 29,
   "metadata": {},
   "outputs": [
    {
     "ename": "WebDriverException",
     "evalue": "Message: chrome not reachable\n  (Session info: chrome=100.0.4896.75)\nStacktrace:\nBacktrace:\n\tOrdinal0 [0x008F7413+2389011]\n\tOrdinal0 [0x00889F61+1941345]\n\tOrdinal0 [0x0077C520+836896]\n\tOrdinal0 [0x00770682+788098]\n\tOrdinal0 [0x00770EB8+790200]\n\tOrdinal0 [0x00772752+796498]\n\tOrdinal0 [0x0076C0D9+770265]\n\tOrdinal0 [0x0077D9D0+842192]\n\tOrdinal0 [0x007D3AE2+1194722]\n\tOrdinal0 [0x007C3F66+1130342]\n\tOrdinal0 [0x0079E546+976198]\n\tOrdinal0 [0x0079F456+980054]\n\tGetHandleVerifier [0x00AA9632+1727522]\n\tGetHandleVerifier [0x00B5BA4D+2457661]\n\tGetHandleVerifier [0x0098EB81+569713]\n\tGetHandleVerifier [0x0098DD76+566118]\n\tOrdinal0 [0x00890B2B+1968939]\n\tOrdinal0 [0x00895988+1989000]\n\tOrdinal0 [0x00895A75+1989237]\n\tOrdinal0 [0x0089ECB1+2026673]\n\tBaseThreadInitThunk [0x76ACFA29+25]\n\tRtlGetAppContainerNamedObjectPath [0x77767A7E+286]\n\tRtlGetAppContainerNamedObjectPath [0x77767A4E+238]\n",
     "output_type": "error",
     "traceback": [
      "\u001b[1;31m---------------------------------------------------------------------------\u001b[0m",
      "\u001b[1;31mWebDriverException\u001b[0m                        Traceback (most recent call last)",
      "\u001b[1;32m~\\AppData\\Local\\Temp/ipykernel_5420/2610285368.py\u001b[0m in \u001b[0;36m<module>\u001b[1;34m\u001b[0m\n\u001b[1;32m----> 1\u001b[1;33m \u001b[0mdriver\u001b[0m\u001b[1;33m.\u001b[0m\u001b[0mfind_element\u001b[0m\u001b[1;33m(\u001b[0m\u001b[0mBy\u001b[0m\u001b[1;33m.\u001b[0m\u001b[0mXPATH\u001b[0m\u001b[1;33m,\u001b[0m \u001b[1;34m'//*[@id=\"genLeftMenu_3_leftMenuGrp\"]'\u001b[0m\u001b[1;33m)\u001b[0m\u001b[1;33m.\u001b[0m\u001b[0mclick\u001b[0m\u001b[1;33m(\u001b[0m\u001b[1;33m)\u001b[0m\u001b[1;33m\u001b[0m\u001b[1;33m\u001b[0m\u001b[0m\n\u001b[0m",
      "\u001b[1;32mC:\\Program Files\\Python38\\selenium\\webdriver\\remote\\webdriver.py\u001b[0m in \u001b[0;36mfind_element\u001b[1;34m(self, by, value)\u001b[0m\n\u001b[0;32m   1242\u001b[0m             \u001b[0mvalue\u001b[0m \u001b[1;33m=\u001b[0m \u001b[1;34m'[name=\"%s\"]'\u001b[0m \u001b[1;33m%\u001b[0m \u001b[0mvalue\u001b[0m\u001b[1;33m\u001b[0m\u001b[1;33m\u001b[0m\u001b[0m\n\u001b[0;32m   1243\u001b[0m \u001b[1;33m\u001b[0m\u001b[0m\n\u001b[1;32m-> 1244\u001b[1;33m         return self.execute(Command.FIND_ELEMENT, {\n\u001b[0m\u001b[0;32m   1245\u001b[0m             \u001b[1;34m'using'\u001b[0m\u001b[1;33m:\u001b[0m \u001b[0mby\u001b[0m\u001b[1;33m,\u001b[0m\u001b[1;33m\u001b[0m\u001b[1;33m\u001b[0m\u001b[0m\n\u001b[0;32m   1246\u001b[0m             'value': value})['value']\n",
      "\u001b[1;32mC:\\Program Files\\Python38\\selenium\\webdriver\\remote\\webdriver.py\u001b[0m in \u001b[0;36mexecute\u001b[1;34m(self, driver_command, params)\u001b[0m\n\u001b[0;32m    422\u001b[0m         \u001b[0mresponse\u001b[0m \u001b[1;33m=\u001b[0m \u001b[0mself\u001b[0m\u001b[1;33m.\u001b[0m\u001b[0mcommand_executor\u001b[0m\u001b[1;33m.\u001b[0m\u001b[0mexecute\u001b[0m\u001b[1;33m(\u001b[0m\u001b[0mdriver_command\u001b[0m\u001b[1;33m,\u001b[0m \u001b[0mparams\u001b[0m\u001b[1;33m)\u001b[0m\u001b[1;33m\u001b[0m\u001b[1;33m\u001b[0m\u001b[0m\n\u001b[0;32m    423\u001b[0m         \u001b[1;32mif\u001b[0m \u001b[0mresponse\u001b[0m\u001b[1;33m:\u001b[0m\u001b[1;33m\u001b[0m\u001b[1;33m\u001b[0m\u001b[0m\n\u001b[1;32m--> 424\u001b[1;33m             \u001b[0mself\u001b[0m\u001b[1;33m.\u001b[0m\u001b[0merror_handler\u001b[0m\u001b[1;33m.\u001b[0m\u001b[0mcheck_response\u001b[0m\u001b[1;33m(\u001b[0m\u001b[0mresponse\u001b[0m\u001b[1;33m)\u001b[0m\u001b[1;33m\u001b[0m\u001b[1;33m\u001b[0m\u001b[0m\n\u001b[0m\u001b[0;32m    425\u001b[0m             response['value'] = self._unwrap_value(\n\u001b[0;32m    426\u001b[0m                 response.get('value', None))\n",
      "\u001b[1;32mC:\\Program Files\\Python38\\selenium\\webdriver\\remote\\errorhandler.py\u001b[0m in \u001b[0;36mcheck_response\u001b[1;34m(self, response)\u001b[0m\n\u001b[0;32m    245\u001b[0m                 \u001b[0malert_text\u001b[0m \u001b[1;33m=\u001b[0m \u001b[0mvalue\u001b[0m\u001b[1;33m[\u001b[0m\u001b[1;34m'alert'\u001b[0m\u001b[1;33m]\u001b[0m\u001b[1;33m.\u001b[0m\u001b[0mget\u001b[0m\u001b[1;33m(\u001b[0m\u001b[1;34m'text'\u001b[0m\u001b[1;33m)\u001b[0m\u001b[1;33m\u001b[0m\u001b[1;33m\u001b[0m\u001b[0m\n\u001b[0;32m    246\u001b[0m             \u001b[1;32mraise\u001b[0m \u001b[0mexception_class\u001b[0m\u001b[1;33m(\u001b[0m\u001b[0mmessage\u001b[0m\u001b[1;33m,\u001b[0m \u001b[0mscreen\u001b[0m\u001b[1;33m,\u001b[0m \u001b[0mstacktrace\u001b[0m\u001b[1;33m,\u001b[0m \u001b[0malert_text\u001b[0m\u001b[1;33m)\u001b[0m  \u001b[1;31m# type: ignore[call-arg]  # mypy is not smart enough here\u001b[0m\u001b[1;33m\u001b[0m\u001b[1;33m\u001b[0m\u001b[0m\n\u001b[1;32m--> 247\u001b[1;33m         \u001b[1;32mraise\u001b[0m \u001b[0mexception_class\u001b[0m\u001b[1;33m(\u001b[0m\u001b[0mmessage\u001b[0m\u001b[1;33m,\u001b[0m \u001b[0mscreen\u001b[0m\u001b[1;33m,\u001b[0m \u001b[0mstacktrace\u001b[0m\u001b[1;33m)\u001b[0m\u001b[1;33m\u001b[0m\u001b[1;33m\u001b[0m\u001b[0m\n\u001b[0m\u001b[0;32m    248\u001b[0m \u001b[1;33m\u001b[0m\u001b[0m\n\u001b[0;32m    249\u001b[0m     \u001b[1;32mdef\u001b[0m \u001b[0m_value_or_default\u001b[0m\u001b[1;33m(\u001b[0m\u001b[0mself\u001b[0m\u001b[1;33m,\u001b[0m \u001b[0mobj\u001b[0m\u001b[1;33m:\u001b[0m \u001b[0mMapping\u001b[0m\u001b[1;33m[\u001b[0m\u001b[0m_KT\u001b[0m\u001b[1;33m,\u001b[0m \u001b[0m_VT\u001b[0m\u001b[1;33m]\u001b[0m\u001b[1;33m,\u001b[0m \u001b[0mkey\u001b[0m\u001b[1;33m:\u001b[0m \u001b[0m_KT\u001b[0m\u001b[1;33m,\u001b[0m \u001b[0mdefault\u001b[0m\u001b[1;33m:\u001b[0m \u001b[0m_VT\u001b[0m\u001b[1;33m)\u001b[0m \u001b[1;33m->\u001b[0m \u001b[0m_VT\u001b[0m\u001b[1;33m:\u001b[0m\u001b[1;33m\u001b[0m\u001b[1;33m\u001b[0m\u001b[0m\n",
      "\u001b[1;31mWebDriverException\u001b[0m: Message: chrome not reachable\n  (Session info: chrome=100.0.4896.75)\nStacktrace:\nBacktrace:\n\tOrdinal0 [0x008F7413+2389011]\n\tOrdinal0 [0x00889F61+1941345]\n\tOrdinal0 [0x0077C520+836896]\n\tOrdinal0 [0x00770682+788098]\n\tOrdinal0 [0x00770EB8+790200]\n\tOrdinal0 [0x00772752+796498]\n\tOrdinal0 [0x0076C0D9+770265]\n\tOrdinal0 [0x0077D9D0+842192]\n\tOrdinal0 [0x007D3AE2+1194722]\n\tOrdinal0 [0x007C3F66+1130342]\n\tOrdinal0 [0x0079E546+976198]\n\tOrdinal0 [0x0079F456+980054]\n\tGetHandleVerifier [0x00AA9632+1727522]\n\tGetHandleVerifier [0x00B5BA4D+2457661]\n\tGetHandleVerifier [0x0098EB81+569713]\n\tGetHandleVerifier [0x0098DD76+566118]\n\tOrdinal0 [0x00890B2B+1968939]\n\tOrdinal0 [0x00895988+1989000]\n\tOrdinal0 [0x00895A75+1989237]\n\tOrdinal0 [0x0089ECB1+2026673]\n\tBaseThreadInitThunk [0x76ACFA29+25]\n\tRtlGetAppContainerNamedObjectPath [0x77767A7E+286]\n\tRtlGetAppContainerNamedObjectPath [0x77767A4E+238]\n"
     ]
    }
   ],
   "source": [
    "driver.find_element(By.XPATH, '//*[@id=\"genLeftMenu_3_leftMenuGrp\"]').click()"
   ]
  },
  {
   "cell_type": "code",
   "execution_count": 11,
   "metadata": {},
   "outputs": [
    {
     "ename": "TypeError",
     "evalue": "object of type 'WebElement' has no len()",
     "output_type": "error",
     "traceback": [
      "\u001b[1;31m---------------------------------------------------------------------------\u001b[0m",
      "\u001b[1;31mTypeError\u001b[0m                                 Traceback (most recent call last)",
      "\u001b[1;32m~\\AppData\\Local\\Temp/ipykernel_26192/4033654851.py\u001b[0m in \u001b[0;36m<module>\u001b[1;34m\u001b[0m\n\u001b[1;32m----> 1\u001b[1;33m \u001b[0mlen\u001b[0m\u001b[1;33m(\u001b[0m\u001b[0melements\u001b[0m\u001b[1;33m)\u001b[0m\u001b[1;33m\u001b[0m\u001b[1;33m\u001b[0m\u001b[0m\n\u001b[0m",
      "\u001b[1;31mTypeError\u001b[0m: object of type 'WebElement' has no len()"
     ]
    }
   ],
   "source": [
    "len(elements)"
   ]
  },
  {
   "cell_type": "code",
   "execution_count": 5,
   "metadata": {},
   "outputs": [
    {
     "data": {
      "text/plain": [
       "'<html><head>\\n<meta http-equiv=\"Content-Type\" content=\"text/html; charset=UTF-8\">\\n<meta http-equiv=\"X-UA-Compatible\" content=\"IE=Edge\">\\n<meta name=\"viewport\" content=\"width=device-width\">\\n\\n<meta name=\"author\" content=\"중소기업진흥공단\">\\n<meta name=\"description\" content=\"성과공유, 특성화고, 계약학과, 기술사관, 산학맞춤, 산업기능요원, 인재육성, 주택특별공급 등 사업관리 및 채용정보를 관리\">\\n<meta name=\"keywords\" content=\"산학인, 특성화고, 계약학과, 기술사관, 산학맞춤, 산업기능요원, 인재육성, 주택특별공급, 성과공유, 성과공유제, 미래성과공유제, 성과공유제도, 중소기업, 성과공유협약, 성과공유도입, 일자리평가\">\\n\\n<meta property=\"og:type\" content=\"website\">\\n<meta property=\"og:title\" content=\"중소기업인력지원사업 종합관리시스템\">\\n<meta property=\"og:description\" content=\"성과공유, 특성화고, 계약학과, 기술사관, 산학맞춤, 산업기능요원, 인재육성, 주택특별공급 등 사업관리 및 채용정보를 관리\">\\n<meta property=\"og:image\" content=\"https://www.smes.go.kr/sanhakin/resource/images/common/logo_h1_1.png\">\\n<meta property=\"og:url\" content=\"https://www.smes.go.kr/sanhakin\">\\n\\n<meta name=\"twitter:card\" content=\"summary\">\\n<meta name=\"twitter:title\" content=\"중소기업인력지원사업 종합관리시스템\">\\n<meta name=\"twitter:description\" content=\"성과공유, 특성화고, 계약학과, 기술사관, 산학맞춤, 산업기능요원, 인재육성, 주택특별공급 등 사업관리 및 채용정보를 관리\">\\n<meta name=\"twitter:image\" content=\"https://www.smes.go.kr/sanhakin/resource/images/common/logo_h1_1.png\">\\n<meta name=\"twitter:domain\" content=\"https://www.smes.go.kr/sanhakin\">\\n\\n\\n<link rel=\"canonical\" href=\"https://www.smes.go.kr/sanhakin\">\\n\\n<title>중소기업인력지원사업 종합관리시스템</title>\\n\\n<link rel=\"shortcut icon\" href=\"/favicon.ico\" type=\"image/x-icon\">\\n<link rel=\"icon\" href=\"/favicon.ico\" type=\"image/x-icon\">\\n\\n<!-- Global site tag (gtag.js) - Google Analytics -->\\n<script async=\"\" src=\"https://www.googletagmanager.com/gtag/js?id=G-ZPRF2XB9YC\"></script>\\n<script>\\n  window.dataLayer = window.dataLayer || [];\\n  function gtag(){dataLayer.push(arguments);}\\n  gtag(\\'js\\', new Date());\\n\\n  gtag(\\'config\\', \\'G-ZPRF2XB9YC\\');\\n</script>\\n\\n<script type=\"text/javascript\" charset=\"utf-8\" src=\"/sanhakin/websquare/javascript.wq?q=/bootloader\"></script><script type=\"text/javascript\" src=\"https://www.smes.go.kr/sanhakin/websquare/javascriptPluginAll.wq?w2xType=5&amp;postfix=5.0_1.3015A.20180410.143527_1.8&amp;compression=true\"></script><script type=\"text/javascript\" charset=\"UTF-8\" src=\"https://www.smes.go.kr/sanhakin/websquare/message/ko.js?postfix=2022_04\"></script><link href=\"https://www.smes.go.kr/sanhakin/websquare/skin/stylesheet_ext.css\" type=\"text/css\" rel=\"stylesheet\">\\n<script src=\"https://spi.maps.daum.net/imap/map_js_init/postcode.v2.js\"></script><script charset=\"UTF-8\" type=\"text/javascript\" src=\"//t1.daumcdn.net/postcode/api/core/211103/1635999227231/211103.js\"></script>\\n<script type=\"text/javascript\">\\n    var contextPath = \\'/sanhakin\\';\\n    var WebSquareExternal = { \"baseURI\" : \"/websquare/\", \"w2xPath\" : \"/wqxml/cmn/menu/MAIN.xml\" };\\n    \\n    function replaceUrl(url) {\\n        \\n        /* 보안사항 \\n        if(typeof IE_fix != \"undefined\") // IE8 and lower fix to pass the http referer\\n        {\\n            window.location.href = url;\\n        }\\n        else { window.location.replace(url); } // All other browsers\\n        */\\n        \\n        window.location.href = url;\\n    }\\n    \\n    function _visibleHelper(htmlStr) {\\n        \\n        try {\\n            \\n            var wqContainer = document.getElementById(\\'contents\\');\\n            \\n            if (!wqContainer) {\\n                \\n                alert(\\'Websquare Container is not initialized.\\');\\n                return false;\\n            }\\n            \\n            wqContainer.innerHTML = htmlStr;\\n            \\n        } catch (e) {\\n            \\n            console.log(e.message);\\n        }\\n    }\\n\\n    gfn_OpenPopup = function(url, options){ \\n        \\n        window.open(url, \"popupMain\" , options );\\n    };\\n    \\n    function init() {\\n        \\n        try{\\n            \\n            history.pushState(null, null, location.href);\\n            \\n            window.onpopstate = function(event) {\\n                \\n                history.go(1);\\n            };\\n            \\n            // 중소벤처24 통합로그인 분기값이 있으면\\n            if( \"1\" == \"null\" || \\n                \"2\" == \"null\" || \\n                \"3\" == \"null\" ||\\n                \"4\" == \"null\" ||\\n                \"5\" == \"null\" ) {\\n                \\n                // 중소벤처24 구분코드 [1:회원가입, 2:로그인, 3:비밀번호 변경]\\n                WebSquare.localStorage.setItem(\"smes_page\",     \"\");\\n                WebSquare.localStorage.setItem(\"MBER_ID\",       \"\");\\n                WebSquare.localStorage.setItem(\"LOGIN_ID\",      \"\");\\n                \\n                // 중소벤처24 상세 공고 파라미터\\n                WebSquare.localStorage.setItem(\"NTTSN\",         \"\");\\n                WebSquare.localStorage.setItem(\"BBSCLCODESE\",   \"\");\\n                WebSquare.localStorage.setItem(\"BSNSCLCODESE\",  \"\");\\n                WebSquare.localStorage.setItem(\"RQST\",          \"\");\\n                WebSquare.localStorage.setItem(\"SMEBSC\",        \"\");\\n                \\n                // 중소벤처24 상세 신청 파라미터\\n                WebSquare.localStorage.setItem(\"REQST_ID\",      \"\");\\n                WebSquare.localStorage.setItem(\"BSNS_ID\",       \"\");\\n                WebSquare.localStorage.setItem(\"REQST_DE\",      \"\");\\n                WebSquare.localStorage.setItem(\"TASK_TY\",       \"\");\\n                WebSquare.localStorage.setItem(\"MMA_NO\",        \"\");\\n                \\n                // 중소벤처24 상세 공고 or 중소벤처24 상세 신청\\n                if( \"4\" == \"null\" || \"5\" == \"null\" ) {\\n\\n                    WebSquare.localStorage.setItem(\"sessLOGIN_ID\",          \"\");\\n                    WebSquare.localStorage.setItem(\"sessMBER_ID\",           \"\");\\n                    WebSquare.localStorage.setItem(\"sessNAME\",              \"\");\\n                    WebSquare.localStorage.setItem(\"sessDEPT_NM\",           \"\");\\n                    WebSquare.localStorage.setItem(\"sessMBER_ROLE_CL\",      \"\");\\n                    WebSquare.localStorage.setItem(\"sessBSNS_CL\",           \"\");\\n                    WebSquare.localStorage.setItem(\"sessPSTINST_ID\",        \"\");\\n                    WebSquare.localStorage.setItem(\"sessROLE_CODE\",         \"\");\\n                    WebSquare.localStorage.setItem(\"sessMBR_CL\",            \"\");\\n                    WebSquare.localStorage.setItem(\"sessADMIN_YN\",          \"\");\\n                    WebSquare.localStorage.setItem(\"sessPORTAL_ADMIN_YN\",   \"\");\\n                    WebSquare.localStorage.setItem(\"sessSURVEY_FLAG\",       \"\");\\n                    \\n                    WebSquare.localStorage.setItem(\"sessWFS_ROLE_CL\",       \"\");\\n                    WebSquare.localStorage.setItem(\"sessUSER_YN\",           \"\");\\n                    WebSquare.localStorage.setItem(\"sessPASSWORD_UPD_YN\",   \"\");\\n                    WebSquare.localStorage.setItem(\"sessBIZR_NO\",           \"\");\\n                    WebSquare.localStorage.setItem(\"sessFIRST_LOGIN_YN\",    \"\");\\n                    \\n                    WebSquare.localStorage.setItem(\"sessUSER_CI\",           \"\");\\n                    WebSquare.localStorage.setItem(\"sessMAX_INCT_INTVAL\",   \"\");\\n                }\\n            }\\n            \\n            if( $wc.util.isEmpty(WebSquare.localStorage.getItem(\"smes_page\")) ) {\\n                \\n                \\n                    WebSquare.localStorage.clear();\\n                \\n            }\\n            \\n            WebSquare.startApplication(WebSquareExternal.w2xPath);\\n            \\n        } catch(e) {\\n            \\n            console.log(e.message);\\n            alert(\"Internet Explorer 9이하의 종합관리시스템이 지원하지 않는 브라우저를 사용하고 계십니다.\\\\n다른 브라우저나 다른 컴퓨터를 사용하여 접속해 보시기 바랍니다.\");\\n        }\\n    }\\n    \\n    window.onload = init;\\n</script>\\n\\n<link rel=\"stylesheet\" href=\"/sanhakin/api/css/smes-common-menu-1.0.css\" type=\"text/css\">\\n<link rel=\"stylesheet\" href=\"/sanhakin/api/css/smes-common-login-1.0.css\" type=\"text/css\">\\n\\n\\n\\n\\n<script src=\"https://www.smes.go.kr/smes-api/api/scripts/smes-common-menu-1.0.js\"></script>\\n<script src=\"https://www.smes.go.kr/smes-api/api/scripts/smes-common-login-1.0.js\"></script>\\n<link href=\"/sanhakin/resource/css/common.css\" type=\"text/css\" rel=\"stylesheet\"><link href=\"/sanhakin/resource/css/main.css\" type=\"text/css\" rel=\"stylesheet\"><link href=\"/sanhakin/resource/css/jquery.bxslider.css\" type=\"text/css\" rel=\"stylesheet\"><style type=\"text/css\">/*internalCSSText*/\\n\\n        \\r\\n        .grd_main{}\\r\\n        .grd_main .gridBodyDefault{border:0; font-size:14px; text-align:left; height:30px !important}\\r\\n        .grd_main .gridBodyDefault:nth-child(2n),\\r\\n        .grd_main .gridBodyDefault:nth-child(2n-1){background:#fff; }\\r\\n        .grd_main .gridHeaderTableDefault{border:0;}\\r\\n         \\n         \\n</style><style type=\"text/css\">/*internalCSSText*/\\n\\n            #sbc_link_itemTable{ height:450px !important; }\\n            #sel_link_itemTable{ height:450px !important; }\\n        \\n</style><script type=\"text/javascript\" charset=\"utf-8\" src=\"/sanhakin/resource/js/ui.js?postfix=2022_04\"></script><script type=\"text/javascript\" charset=\"utf-8\" src=\"/sanhakin/resource/js/jquery.cslider.js?postfix=2022_04\"></script><script type=\"text/javascript\" charset=\"utf-8\" src=\"/sanhakin/resource/js/jquery.slides.min.js?postfix=2022_04\"></script><script type=\"text/javascript\" charset=\"utf-8\" src=\"/sanhakin/resource/js/jquery.bxslider.min.js?postfix=2022_04\"></script><script type=\"text/javascript\" charset=\"utf-8\" src=\"/sanhakin/resource/js/jquery-2.2.2.min.js?postfix=2022_04\"></script><script type=\"text/javascript\" charset=\"utf-8\" src=\"/sanhakin/resource/js/web/ui.js?dummy=20200315131039279&amp;postfix=2022_04\"></script><script type=\"text/javascript\" charset=\"utf-8\" src=\"/sanhakin/resource/js/common.js?postfix=2022_04\"></script><script type=\"text/javascript\" charset=\"utf-8\" src=\"/sanhakin/resource/js/moment.min.js?postfix=2022_04\"></script></head>\\n<body style=\"\">\\n    <div id=\"contents\"></div>\\n    <iframe id=\"hiddenFrame\" style=\"display:none;\"></iframe>\\n\\n</body></html>'"
      ]
     },
     "execution_count": 5,
     "metadata": {},
     "output_type": "execute_result"
    }
   ],
   "source": []
  },
  {
   "cell_type": "code",
   "execution_count": 18,
   "metadata": {},
   "outputs": [],
   "source": [
    "# [STEP1]한국 etf 정보 가져오기\n",
    "kr_etf_df = fdr.StockListing('ETF/KR')\n",
    "kr_etf_list = kr_etf_df['Symbol'].tolist()"
   ]
  },
  {
   "cell_type": "code",
   "execution_count": 19,
   "metadata": {},
   "outputs": [
    {
     "data": {
      "text/plain": [
       "'069500'"
      ]
     },
     "execution_count": 19,
     "metadata": {},
     "output_type": "execute_result"
    }
   ],
   "source": [
    "kr_etf_list[0]"
   ]
  },
  {
   "cell_type": "code",
   "execution_count": 5,
   "metadata": {},
   "outputs": [],
   "source": [
    "def NaverFinance_indicator(etf_symbol, page_num):\n",
    "    url = 'https://finance.naver.com/item/sise.naver?code={}&page={}'.format(etf_symbol, page_num)\n",
    "    driver = webdriver.Chrome(\"C:/Users/is/Downloads/chromedriver_win32/chromedriver.exe\")\n",
    "    driver.get(url)\n",
    "    iframes = driver.find_elements_by_name(\"day\")\n",
    "    # print(iframes[1])\n",
    "    driver.switch_to.frame(iframes[1])\n",
    "    html = driver.page_source\n",
    "    soup = BeautifulSoup(html, 'html.parser')\n",
    "    table_data = soup.find('table')\n",
    "    # data = table_data.find('tbody')\n",
    "    # print(data.select('th'))\n",
    "    # print(data.select('td'))\n",
    "    df = pd.read_html(html)[0]\n",
    "    \n",
    "\n",
    "    # html = driver.page_source\n",
    "    # soup = BeautifulSoup(html, 'html.parser')\n",
    "    # aside_data = soup.find(id=\"aside\")\n",
    "    # data = aside_data.find(\"tbody\")\n",
    "    # print(data.select('th')[1].text)\n",
    "    # print(data.select('em')[1].text)\n",
    "\n",
    "    # table_list = soup.find_all('table')\n",
    "    # print(table_list[5].select('th')[0].text)\n",
    "    # print(table_list[5].select('td')[0].text)\n",
    "\n",
    "    # print(table_list[-1])\n",
    "    # r = soup.select('tbody')\n",
    "    # print(r)\n",
    "    driver.close()\n",
    "    # # 인덱싱 준비\n",
    "    # factors = []\n",
    "    # for i in range(33):\n",
    "    #     r = soup.select('tbody')[12]\n",
    "    #     r = r.select('tr')[i].select('th')[0].text\n",
    "    return df\n"
   ]
  },
  {
   "cell_type": "code",
   "execution_count": 6,
   "metadata": {},
   "outputs": [
    {
     "ename": "WebDriverException",
     "evalue": "Message: 'chromedriver.exe' executable needs to be in PATH. Please see https://sites.google.com/a/chromium.org/chromedriver/home\n",
     "output_type": "error",
     "traceback": [
      "\u001b[1;31m---------------------------------------------------------------------------\u001b[0m",
      "\u001b[1;31mFileNotFoundError\u001b[0m                         Traceback (most recent call last)",
      "\u001b[1;32m~\\AppData\\Local\\Programs\\Python\\Python36\\lib\\site-packages\\selenium\\webdriver\\common\\service.py\u001b[0m in \u001b[0;36mstart\u001b[1;34m(self)\u001b[0m\n\u001b[0;32m     75\u001b[0m                                             \u001b[0mstderr\u001b[0m\u001b[1;33m=\u001b[0m\u001b[0mself\u001b[0m\u001b[1;33m.\u001b[0m\u001b[0mlog_file\u001b[0m\u001b[1;33m,\u001b[0m\u001b[1;33m\u001b[0m\u001b[1;33m\u001b[0m\u001b[0m\n\u001b[1;32m---> 76\u001b[1;33m                                             stdin=PIPE)\n\u001b[0m\u001b[0;32m     77\u001b[0m         \u001b[1;32mexcept\u001b[0m \u001b[0mTypeError\u001b[0m\u001b[1;33m:\u001b[0m\u001b[1;33m\u001b[0m\u001b[1;33m\u001b[0m\u001b[0m\n",
      "\u001b[1;32m~\\AppData\\Local\\Programs\\Python\\Python36\\lib\\subprocess.py\u001b[0m in \u001b[0;36m__init__\u001b[1;34m(self, args, bufsize, executable, stdin, stdout, stderr, preexec_fn, close_fds, shell, cwd, env, universal_newlines, startupinfo, creationflags, restore_signals, start_new_session, pass_fds, encoding, errors)\u001b[0m\n\u001b[0;32m    728\u001b[0m                                 \u001b[0merrread\u001b[0m\u001b[1;33m,\u001b[0m \u001b[0merrwrite\u001b[0m\u001b[1;33m,\u001b[0m\u001b[1;33m\u001b[0m\u001b[1;33m\u001b[0m\u001b[0m\n\u001b[1;32m--> 729\u001b[1;33m                                 restore_signals, start_new_session)\n\u001b[0m\u001b[0;32m    730\u001b[0m         \u001b[1;32mexcept\u001b[0m\u001b[1;33m:\u001b[0m\u001b[1;33m\u001b[0m\u001b[1;33m\u001b[0m\u001b[0m\n",
      "\u001b[1;32m~\\AppData\\Local\\Programs\\Python\\Python36\\lib\\subprocess.py\u001b[0m in \u001b[0;36m_execute_child\u001b[1;34m(self, args, executable, preexec_fn, close_fds, pass_fds, cwd, env, startupinfo, creationflags, shell, p2cread, p2cwrite, c2pread, c2pwrite, errread, errwrite, unused_restore_signals, unused_start_new_session)\u001b[0m\n\u001b[0;32m   1016\u001b[0m                                          \u001b[0mos\u001b[0m\u001b[1;33m.\u001b[0m\u001b[0mfspath\u001b[0m\u001b[1;33m(\u001b[0m\u001b[0mcwd\u001b[0m\u001b[1;33m)\u001b[0m \u001b[1;32mif\u001b[0m \u001b[0mcwd\u001b[0m \u001b[1;32mis\u001b[0m \u001b[1;32mnot\u001b[0m \u001b[1;32mNone\u001b[0m \u001b[1;32melse\u001b[0m \u001b[1;32mNone\u001b[0m\u001b[1;33m,\u001b[0m\u001b[1;33m\u001b[0m\u001b[1;33m\u001b[0m\u001b[0m\n\u001b[1;32m-> 1017\u001b[1;33m                                          startupinfo)\n\u001b[0m\u001b[0;32m   1018\u001b[0m             \u001b[1;32mfinally\u001b[0m\u001b[1;33m:\u001b[0m\u001b[1;33m\u001b[0m\u001b[1;33m\u001b[0m\u001b[0m\n",
      "\u001b[1;31mFileNotFoundError\u001b[0m: [WinError 2] 지정된 파일을 찾을 수 없습니다",
      "\nDuring handling of the above exception, another exception occurred:\n",
      "\u001b[1;31mWebDriverException\u001b[0m                        Traceback (most recent call last)",
      "\u001b[1;32m<ipython-input-6-2d9ff22ed6c5>\u001b[0m in \u001b[0;36m<module>\u001b[1;34m\u001b[0m\n\u001b[1;32m----> 1\u001b[1;33m \u001b[0mdf\u001b[0m \u001b[1;33m=\u001b[0m \u001b[0mNaverFinance_indicator\u001b[0m\u001b[1;33m(\u001b[0m\u001b[0mkr_etf_list\u001b[0m\u001b[1;33m[\u001b[0m\u001b[1;36m0\u001b[0m\u001b[1;33m]\u001b[0m\u001b[1;33m,\u001b[0m \u001b[1;36m1\u001b[0m\u001b[1;33m)\u001b[0m\u001b[1;33m\u001b[0m\u001b[1;33m\u001b[0m\u001b[0m\n\u001b[0m\u001b[0;32m      2\u001b[0m \u001b[0mdf\u001b[0m\u001b[1;33m.\u001b[0m\u001b[0mhead\u001b[0m\u001b[1;33m(\u001b[0m\u001b[1;33m)\u001b[0m\u001b[1;33m\u001b[0m\u001b[1;33m\u001b[0m\u001b[0m\n",
      "\u001b[1;32m<ipython-input-5-c9813c87fde3>\u001b[0m in \u001b[0;36mNaverFinance_indicator\u001b[1;34m(etf_symbol, page_num)\u001b[0m\n\u001b[0;32m      1\u001b[0m \u001b[1;32mdef\u001b[0m \u001b[0mNaverFinance_indicator\u001b[0m\u001b[1;33m(\u001b[0m\u001b[0metf_symbol\u001b[0m\u001b[1;33m,\u001b[0m \u001b[0mpage_num\u001b[0m\u001b[1;33m)\u001b[0m\u001b[1;33m:\u001b[0m\u001b[1;33m\u001b[0m\u001b[1;33m\u001b[0m\u001b[0m\n\u001b[0;32m      2\u001b[0m     \u001b[0murl\u001b[0m \u001b[1;33m=\u001b[0m \u001b[1;34m'https://finance.naver.com/item/sise.naver?code={}&page={}'\u001b[0m\u001b[1;33m.\u001b[0m\u001b[0mformat\u001b[0m\u001b[1;33m(\u001b[0m\u001b[0metf_symbol\u001b[0m\u001b[1;33m,\u001b[0m \u001b[0mpage_num\u001b[0m\u001b[1;33m)\u001b[0m\u001b[1;33m\u001b[0m\u001b[1;33m\u001b[0m\u001b[0m\n\u001b[1;32m----> 3\u001b[1;33m     \u001b[0mdriver\u001b[0m \u001b[1;33m=\u001b[0m \u001b[0mwebdriver\u001b[0m\u001b[1;33m.\u001b[0m\u001b[0mChrome\u001b[0m\u001b[1;33m(\u001b[0m\u001b[1;34m\"C:/Users/is/Downloads/chromedriver_win32/chromedriver.exe\"\u001b[0m\u001b[1;33m)\u001b[0m\u001b[1;33m\u001b[0m\u001b[1;33m\u001b[0m\u001b[0m\n\u001b[0m\u001b[0;32m      4\u001b[0m     \u001b[0mdriver\u001b[0m\u001b[1;33m.\u001b[0m\u001b[0mget\u001b[0m\u001b[1;33m(\u001b[0m\u001b[0murl\u001b[0m\u001b[1;33m)\u001b[0m\u001b[1;33m\u001b[0m\u001b[1;33m\u001b[0m\u001b[0m\n\u001b[0;32m      5\u001b[0m     \u001b[0miframes\u001b[0m \u001b[1;33m=\u001b[0m \u001b[0mdriver\u001b[0m\u001b[1;33m.\u001b[0m\u001b[0mfind_elements_by_name\u001b[0m\u001b[1;33m(\u001b[0m\u001b[1;34m\"day\"\u001b[0m\u001b[1;33m)\u001b[0m\u001b[1;33m\u001b[0m\u001b[1;33m\u001b[0m\u001b[0m\n",
      "\u001b[1;32m~\\AppData\\Local\\Programs\\Python\\Python36\\lib\\site-packages\\selenium\\webdriver\\chrome\\webdriver.py\u001b[0m in \u001b[0;36m__init__\u001b[1;34m(self, executable_path, port, options, service_args, desired_capabilities, service_log_path, chrome_options, keep_alive)\u001b[0m\n\u001b[0;32m     71\u001b[0m             \u001b[0mservice_args\u001b[0m\u001b[1;33m=\u001b[0m\u001b[0mservice_args\u001b[0m\u001b[1;33m,\u001b[0m\u001b[1;33m\u001b[0m\u001b[1;33m\u001b[0m\u001b[0m\n\u001b[0;32m     72\u001b[0m             log_path=service_log_path)\n\u001b[1;32m---> 73\u001b[1;33m         \u001b[0mself\u001b[0m\u001b[1;33m.\u001b[0m\u001b[0mservice\u001b[0m\u001b[1;33m.\u001b[0m\u001b[0mstart\u001b[0m\u001b[1;33m(\u001b[0m\u001b[1;33m)\u001b[0m\u001b[1;33m\u001b[0m\u001b[1;33m\u001b[0m\u001b[0m\n\u001b[0m\u001b[0;32m     74\u001b[0m \u001b[1;33m\u001b[0m\u001b[0m\n\u001b[0;32m     75\u001b[0m         \u001b[1;32mtry\u001b[0m\u001b[1;33m:\u001b[0m\u001b[1;33m\u001b[0m\u001b[1;33m\u001b[0m\u001b[0m\n",
      "\u001b[1;32m~\\AppData\\Local\\Programs\\Python\\Python36\\lib\\site-packages\\selenium\\webdriver\\common\\service.py\u001b[0m in \u001b[0;36mstart\u001b[1;34m(self)\u001b[0m\n\u001b[0;32m     81\u001b[0m                 raise WebDriverException(\n\u001b[0;32m     82\u001b[0m                     \"'%s' executable needs to be in PATH. %s\" % (\n\u001b[1;32m---> 83\u001b[1;33m                         os.path.basename(self.path), self.start_error_message)\n\u001b[0m\u001b[0;32m     84\u001b[0m                 )\n\u001b[0;32m     85\u001b[0m             \u001b[1;32melif\u001b[0m \u001b[0merr\u001b[0m\u001b[1;33m.\u001b[0m\u001b[0merrno\u001b[0m \u001b[1;33m==\u001b[0m \u001b[0merrno\u001b[0m\u001b[1;33m.\u001b[0m\u001b[0mEACCES\u001b[0m\u001b[1;33m:\u001b[0m\u001b[1;33m\u001b[0m\u001b[1;33m\u001b[0m\u001b[0m\n",
      "\u001b[1;31mWebDriverException\u001b[0m: Message: 'chromedriver.exe' executable needs to be in PATH. Please see https://sites.google.com/a/chromium.org/chromedriver/home\n"
     ]
    }
   ],
   "source": [
    "df = NaverFinance_indicator(kr_etf_list[0], 1)\n",
    "df.head()"
   ]
  },
  {
   "cell_type": "code",
   "execution_count": 32,
   "metadata": {},
   "outputs": [
    {
     "data": {
      "text/html": [
       "<div>\n",
       "<style scoped>\n",
       "    .dataframe tbody tr th:only-of-type {\n",
       "        vertical-align: middle;\n",
       "    }\n",
       "\n",
       "    .dataframe tbody tr th {\n",
       "        vertical-align: top;\n",
       "    }\n",
       "\n",
       "    .dataframe thead th {\n",
       "        text-align: right;\n",
       "    }\n",
       "</style>\n",
       "<table border=\"1\" class=\"dataframe\">\n",
       "  <thead>\n",
       "    <tr style=\"text-align: right;\">\n",
       "      <th></th>\n",
       "      <th>종가</th>\n",
       "      <th>전일비</th>\n",
       "      <th>시가</th>\n",
       "      <th>고가</th>\n",
       "      <th>저가</th>\n",
       "      <th>거래량</th>\n",
       "    </tr>\n",
       "  </thead>\n",
       "  <tbody>\n",
       "    <tr>\n",
       "      <th>count</th>\n",
       "      <td>10.000000</td>\n",
       "      <td>10.000000</td>\n",
       "      <td>10.000000</td>\n",
       "      <td>10.000000</td>\n",
       "      <td>10.000000</td>\n",
       "      <td>1.000000e+01</td>\n",
       "    </tr>\n",
       "    <tr>\n",
       "      <th>mean</th>\n",
       "      <td>39491.000000</td>\n",
       "      <td>345.500000</td>\n",
       "      <td>39586.500000</td>\n",
       "      <td>39766.500000</td>\n",
       "      <td>39296.000000</td>\n",
       "      <td>5.328462e+06</td>\n",
       "    </tr>\n",
       "    <tr>\n",
       "      <th>std</th>\n",
       "      <td>372.445373</td>\n",
       "      <td>230.089958</td>\n",
       "      <td>369.594748</td>\n",
       "      <td>328.870542</td>\n",
       "      <td>355.143164</td>\n",
       "      <td>2.358200e+06</td>\n",
       "    </tr>\n",
       "    <tr>\n",
       "      <th>min</th>\n",
       "      <td>38975.000000</td>\n",
       "      <td>25.000000</td>\n",
       "      <td>39100.000000</td>\n",
       "      <td>39445.000000</td>\n",
       "      <td>38880.000000</td>\n",
       "      <td>2.984219e+06</td>\n",
       "    </tr>\n",
       "    <tr>\n",
       "      <th>25%</th>\n",
       "      <td>39193.750000</td>\n",
       "      <td>137.500000</td>\n",
       "      <td>39270.000000</td>\n",
       "      <td>39465.000000</td>\n",
       "      <td>39038.750000</td>\n",
       "      <td>4.208661e+06</td>\n",
       "    </tr>\n",
       "    <tr>\n",
       "      <th>50%</th>\n",
       "      <td>39417.500000</td>\n",
       "      <td>347.500000</td>\n",
       "      <td>39482.500000</td>\n",
       "      <td>39727.500000</td>\n",
       "      <td>39152.500000</td>\n",
       "      <td>4.516047e+06</td>\n",
       "    </tr>\n",
       "    <tr>\n",
       "      <th>75%</th>\n",
       "      <td>39873.750000</td>\n",
       "      <td>550.000000</td>\n",
       "      <td>39943.750000</td>\n",
       "      <td>40006.250000</td>\n",
       "      <td>39642.500000</td>\n",
       "      <td>4.966430e+06</td>\n",
       "    </tr>\n",
       "    <tr>\n",
       "      <th>max</th>\n",
       "      <td>39965.000000</td>\n",
       "      <td>645.000000</td>\n",
       "      <td>40070.000000</td>\n",
       "      <td>40345.000000</td>\n",
       "      <td>39825.000000</td>\n",
       "      <td>1.039130e+07</td>\n",
       "    </tr>\n",
       "  </tbody>\n",
       "</table>\n",
       "</div>"
      ],
      "text/plain": [
       "                 종가         전일비            시가            고가            저가  \\\n",
       "count     10.000000   10.000000     10.000000     10.000000     10.000000   \n",
       "mean   39491.000000  345.500000  39586.500000  39766.500000  39296.000000   \n",
       "std      372.445373  230.089958    369.594748    328.870542    355.143164   \n",
       "min    38975.000000   25.000000  39100.000000  39445.000000  38880.000000   \n",
       "25%    39193.750000  137.500000  39270.000000  39465.000000  39038.750000   \n",
       "50%    39417.500000  347.500000  39482.500000  39727.500000  39152.500000   \n",
       "75%    39873.750000  550.000000  39943.750000  40006.250000  39642.500000   \n",
       "max    39965.000000  645.000000  40070.000000  40345.000000  39825.000000   \n",
       "\n",
       "                거래량  \n",
       "count  1.000000e+01  \n",
       "mean   5.328462e+06  \n",
       "std    2.358200e+06  \n",
       "min    2.984219e+06  \n",
       "25%    4.208661e+06  \n",
       "50%    4.516047e+06  \n",
       "75%    4.966430e+06  \n",
       "max    1.039130e+07  "
      ]
     },
     "execution_count": 32,
     "metadata": {},
     "output_type": "execute_result"
    }
   ],
   "source": [
    "df.describe()"
   ]
  },
  {
   "cell_type": "code",
   "execution_count": 33,
   "metadata": {},
   "outputs": [
    {
     "name": "stdout",
     "output_type": "stream",
     "text": [
      "<class 'pandas.core.frame.DataFrame'>\n",
      "RangeIndex: 15 entries, 0 to 14\n",
      "Data columns (total 7 columns):\n",
      " #   Column  Non-Null Count  Dtype  \n",
      "---  ------  --------------  -----  \n",
      " 0   날짜      10 non-null     object \n",
      " 1   종가      10 non-null     float64\n",
      " 2   전일비     10 non-null     float64\n",
      " 3   시가      10 non-null     float64\n",
      " 4   고가      10 non-null     float64\n",
      " 5   저가      10 non-null     float64\n",
      " 6   거래량     10 non-null     float64\n",
      "dtypes: float64(6), object(1)\n",
      "memory usage: 968.0+ bytes\n"
     ]
    }
   ],
   "source": [
    "df.info()"
   ]
  },
  {
   "cell_type": "code",
   "execution_count": 35,
   "metadata": {},
   "outputs": [
    {
     "data": {
      "text/html": [
       "<div>\n",
       "<style scoped>\n",
       "    .dataframe tbody tr th:only-of-type {\n",
       "        vertical-align: middle;\n",
       "    }\n",
       "\n",
       "    .dataframe tbody tr th {\n",
       "        vertical-align: top;\n",
       "    }\n",
       "\n",
       "    .dataframe thead th {\n",
       "        text-align: right;\n",
       "    }\n",
       "</style>\n",
       "<table border=\"1\" class=\"dataframe\">\n",
       "  <thead>\n",
       "    <tr style=\"text-align: right;\">\n",
       "      <th></th>\n",
       "      <th>날짜</th>\n",
       "      <th>종가</th>\n",
       "      <th>전일비</th>\n",
       "      <th>시가</th>\n",
       "      <th>고가</th>\n",
       "      <th>저가</th>\n",
       "      <th>거래량</th>\n",
       "      <th>date</th>\n",
       "    </tr>\n",
       "  </thead>\n",
       "  <tbody>\n",
       "    <tr>\n",
       "      <th>0</th>\n",
       "      <td>NaN</td>\n",
       "      <td>NaN</td>\n",
       "      <td>NaN</td>\n",
       "      <td>NaN</td>\n",
       "      <td>NaN</td>\n",
       "      <td>NaN</td>\n",
       "      <td>NaN</td>\n",
       "      <td>NaT</td>\n",
       "    </tr>\n",
       "    <tr>\n",
       "      <th>1</th>\n",
       "      <td>2022.01.14</td>\n",
       "      <td>39105.0</td>\n",
       "      <td>615.0</td>\n",
       "      <td>39405.0</td>\n",
       "      <td>39480.0</td>\n",
       "      <td>39035.0</td>\n",
       "      <td>2984219.0</td>\n",
       "      <td>2022-01-14</td>\n",
       "    </tr>\n",
       "    <tr>\n",
       "      <th>2</th>\n",
       "      <td>2022.01.13</td>\n",
       "      <td>39720.0</td>\n",
       "      <td>205.0</td>\n",
       "      <td>39975.0</td>\n",
       "      <td>40030.0</td>\n",
       "      <td>39680.0</td>\n",
       "      <td>4178583.0</td>\n",
       "      <td>2022-01-13</td>\n",
       "    </tr>\n",
       "    <tr>\n",
       "      <th>3</th>\n",
       "      <td>2022.01.12</td>\n",
       "      <td>39925.0</td>\n",
       "      <td>645.0</td>\n",
       "      <td>39545.0</td>\n",
       "      <td>39935.0</td>\n",
       "      <td>39530.0</td>\n",
       "      <td>4323445.0</td>\n",
       "      <td>2022-01-12</td>\n",
       "    </tr>\n",
       "    <tr>\n",
       "      <th>4</th>\n",
       "      <td>2022.01.11</td>\n",
       "      <td>39280.0</td>\n",
       "      <td>115.0</td>\n",
       "      <td>39225.0</td>\n",
       "      <td>39445.0</td>\n",
       "      <td>39050.0</td>\n",
       "      <td>4298895.0</td>\n",
       "      <td>2022-01-11</td>\n",
       "    </tr>\n",
       "  </tbody>\n",
       "</table>\n",
       "</div>"
      ],
      "text/plain": [
       "           날짜       종가    전일비       시가       고가       저가        거래량       date\n",
       "0         NaN      NaN    NaN      NaN      NaN      NaN        NaN        NaT\n",
       "1  2022.01.14  39105.0  615.0  39405.0  39480.0  39035.0  2984219.0 2022-01-14\n",
       "2  2022.01.13  39720.0  205.0  39975.0  40030.0  39680.0  4178583.0 2022-01-13\n",
       "3  2022.01.12  39925.0  645.0  39545.0  39935.0  39530.0  4323445.0 2022-01-12\n",
       "4  2022.01.11  39280.0  115.0  39225.0  39445.0  39050.0  4298895.0 2022-01-11"
      ]
     },
     "execution_count": 35,
     "metadata": {},
     "output_type": "execute_result"
    }
   ],
   "source": [
    "df['date'] = pd.to_datetime(df['날짜'], format=\"%Y.%m.%d\")\n",
    "df.head()"
   ]
  },
  {
   "cell_type": "code",
   "execution_count": null,
   "metadata": {},
   "outputs": [],
   "source": []
  }
 ],
 "metadata": {
  "interpreter": {
   "hash": "1baa965d5efe3ac65b79dfc60c0d706280b1da80fedb7760faf2759126c4f253"
  },
  "kernelspec": {
   "display_name": "Python 3.8.10 64-bit",
   "language": "python",
   "name": "python3"
  },
  "language_info": {
   "codemirror_mode": {
    "name": "ipython",
    "version": 3
   },
   "file_extension": ".py",
   "mimetype": "text/x-python",
   "name": "python",
   "nbconvert_exporter": "python",
   "pygments_lexer": "ipython3",
   "version": "3.8.10"
  },
  "orig_nbformat": 4
 },
 "nbformat": 4,
 "nbformat_minor": 2
}
