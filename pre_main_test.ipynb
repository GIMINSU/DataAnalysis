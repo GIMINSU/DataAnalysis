{
 "cells": [
  {
   "cell_type": "code",
   "execution_count": 12,
   "metadata": {},
   "outputs": [
    {
     "data": {
      "text/plain": [
       "datetime.time(9, 41, 35, 284661)"
      ]
     },
     "execution_count": 12,
     "metadata": {},
     "output_type": "execute_result"
    }
   ],
   "source": [
    "from datetime import datetime, timedelta, time\n",
    "datetime.now().time()"
   ]
  },
  {
   "cell_type": "code",
   "execution_count": 26,
   "metadata": {},
   "outputs": [],
   "source": [
    "now =datetime.now()"
   ]
  },
  {
   "cell_type": "code",
   "execution_count": 28,
   "metadata": {},
   "outputs": [
    {
     "data": {
      "text/plain": [
       "137632.769919"
      ]
     },
     "execution_count": 28,
     "metadata": {},
     "output_type": "execute_result"
    }
   ],
   "source": [
    "future = datetime.combine((datetime.today() + timedelta(days=2)), datetime.strptime(\"00:00\", \"%H:%M\").time())\n",
    "(future - now).total_seconds()"
   ]
  },
  {
   "cell_type": "code",
   "execution_count": 1,
   "metadata": {},
   "outputs": [],
   "source": [
    "\n",
    "import os\n",
    "import sys\n",
    "from os import path\n",
    "\n",
    "import logging\n",
    "import pause\n",
    "\n",
    "import threading\n",
    "from threading import Timer, Thread\n",
    "import schedule\n",
    "\n",
    "import pandas as pd\n",
    "import numpy as np\n",
    "\n",
    "from datetime import datetime, timedelta, time\n",
    "import time as ot\n",
    "\n",
    "import requests\n",
    "from public_data_config import apisdata\n",
    "\n",
    "\n",
    "\n",
    "from slack_message import _post_message\n",
    "from slack_sdk_message_post import _post_message_with_slack_sdk\n",
    "\n",
    "# Import WebClient from Python SDK\n",
    "from slack_sdk import WebClient\n",
    "from slack_sdk.errors import SlackApiError\n",
    "\n",
    "from get_holiday import _get_holiday\n",
    "from make_stock_list import _get_stock_list\n",
    "from make_cci_signal import _make_cci_signal\n",
    "from collect_signal import _collect_cci_signal\n",
    "\n",
    "from slack_message import _post_message\n",
    "from slack_sdk_message_post import _post_message_with_slack_sdk"
   ]
  },
  {
   "cell_type": "code",
   "execution_count": 5,
   "metadata": {},
   "outputs": [],
   "source": [
    "class BaseService:\n",
    "    def __init__(self):\n",
    "        self.myToken = apisdata[\"slack\"][\"token\"]\n",
    "        self.channel_name = apisdata[\"slack\"][\"channel_name\"]\n",
    "        self.channel_id = apisdata[\"slack\"][\"channel_id\"]\n",
    "\n",
    "        # 휴장일 데이터 가져오기\n",
    "        self.mykey = apisdata[\"holiday\"][\"decoding_key\"]\n",
    "        self.request_url = apisdata[\"holiday\"][\"request_url\"]\n",
    "        self.year = \"2022\"\n",
    "        self.market = \"kospi\"\n",
    "        self.market_stock_dict = {\n",
    "            self.market : None,\n",
    "            }\n",
    "        self.market_dict = None\n",
    "        self.config_ndays = 20\n",
    "        self.financial_engineering_days = 252\n",
    "        self.start_date = (datetime.now() - timedelta(days=self.financial_engineering_days)).date().strftime(\"%Y-%m-%d\")\n",
    "        self.ko_holiday_list =  ['2022-01_01','2022-01_31','2022-02_01','2022-02_02','2022-03_01','2022-03_09','2022-05_05','2022-05_08','2022-06_01','2022-06_06','2022-08_15','2022-09_09','2022-09_10','2022-09_11','2022-09_12','2022-10_03','2022-10_09','2022-10_10','2022-12_25']\n",
    "\n",
    "    def scheduler(self):\n",
    "        today_date = datetime.now().date().strftime(\"%Y-%m-%d\")\n",
    "        try:\n",
    "            holiday_list = _get_holiday(self)\n",
    "        except Exception as e:\n",
    "            print(e)\n",
    "            holiday_list = []\n",
    "\n",
    "        if today_date not in holiday_list:\n",
    "            try:\n",
    "                self._get_stock_list()\n",
    "\n",
    "                self._post_signal_to_slack()\n",
    "            except Exception as e:\n",
    "                self._post_message(e)\n",
    "                pass\n",
    "\n",
    "        else:\n",
    "            try:\n",
    "                self._get_stock_list()\n",
    "                self._post_signal_to_slack()\n",
    "            except Exception as e:\n",
    "                self._post_message(e)\n",
    "                pass\n",
    "    \n",
    "    def _get_stock_list(self):\n",
    "        stock_list = []\n",
    "        if self.market == \"kospi\":\n",
    "            for i in range(1, 21):\n",
    "                page = i\n",
    "                url = 'https://finance.naver.com/sise/entryJongmok.nhn?&page={page}'.format(page = page)\n",
    "                source = urlopen(url).read()\n",
    "                source = BeautifulSoup(source,'lxml')\n",
    "                source = source.find_all('a',target = '_parent')\n",
    "                for j in range(len(source)):\n",
    "                    name = source[j].text\n",
    "                    stock_list.append(name)\n",
    "\n",
    "            kospi_df = fdr.StockListing(self.market)\n",
    "            self.market_dict = kospi_df[kospi_df[\"Name\"].isin(stock_list)].set_index(\"Symbol\")[\"Name\"].to_dict()\n",
    "            self.market_stock_dict[self.market] = self.market_dict\n",
    "\n",
    "        elif self.market == \"sp500\":\n",
    "            self.market_dict = pd.read_html('https://en.wikipedia.org/wiki/List_of_S%26P_500_companies')[0].set_index(\"Symbol\")[\"Security\"].to_dict()\n",
    "            self.market_stock_dict[self.market] = self.market_dict\n",
    "\n",
    "\n",
    "    def _post_message(self, text):\n",
    "        response = requests.post(\"https://slack.com/api/chat.postMessage\",\n",
    "            headers={\"Authorization\": \"Bearer \"+self.myToken},\n",
    "            data={\"channel\": self.channel_name,\"text\": text}\n",
    "        )\n",
    "        if response.ok:\n",
    "            print(\"Success. Send message with slack.\")\n",
    "        else:\n",
    "            print(\"Fail. Send message with slack.\")\n",
    "            pass\n",
    "\n",
    "\n",
    "    def _post_message_with_slack_sdk(self, text=None, blocks=None):\n",
    "        client = WebClient(token=self.myToken)\n",
    "        logger = logging.getLogger(__name__)\n",
    "        channel_id = self.channel_id\n",
    "\n",
    "        try:\n",
    "            # Call the conversations. list method using the WebClient\n",
    "            if text is not None:\n",
    "                result = client.chat_postMessage(\n",
    "                    channel=channel_id,\n",
    "                    text = text\n",
    "                )\n",
    "                print(result)\n",
    "\n",
    "            elif blocks is not None:\n",
    "                result = client.chat_postMessage(\n",
    "                    channel=channel_id,\n",
    "                    blocks = blocks\n",
    "                )\n",
    "                print(result)\n",
    "        except SlackApiError as e:\n",
    "            print(f\"Error: {e}\")\n",
    "\n",
    "    def _make_signal(self, df):\n",
    "        try:\n",
    "            df = df.reset_index()\n",
    "            df[\"TP\"] = (df[\"High\"] + df[\"Low\"] + df[\"Close\"]) / 3\n",
    "            df[\"sma\"] = df[\"TP\"].rolling(self.config_ndays).mean()\n",
    "            df[\"mad\"] = df[\"TP\"].rolling(self.config_ndays).apply(lambda x: pd.Series(x).mad())\n",
    "            df[\"CCI\"] = (df[\"TP\"] - df[\"sma\"]) / (0.015 * df[\"mad\"])\n",
    "            \n",
    "            df[\"pre1day_cci\"] = df[\"CCI\"].shift(1)\n",
    "            df[\"trade\"] = None\n",
    "            df[\"trade\"] = np.where((df[\"CCI\"] >= -100) & (df[\"pre1day_cci\"] < -100), \"buy\", df[\"trade\"])\n",
    "            df[\"trade\"] = np.where((df[\"CCI\"] <= 100) & (df[\"pre1day_cci\"] > 100), \"sell\", df[\"trade\"])\n",
    "            \n",
    "            df[\"total_buy_price\"] = 0\n",
    "            df[\"shares\"] = 0\n",
    "            df[\"buy_price\"] = 0\n",
    "            df[\"sell_price\"] = 0\n",
    "            df[\"revenue\"] = 0\n",
    "            df[\"rate\"] = 0\n",
    "\n",
    "            buy_price_list = []\n",
    "            for i, x in df.iterrows():\n",
    "                if x[\"trade\"] == \"buy\":\n",
    "                    buy_price_list.append(x[\"Close\"])\n",
    "                    df.loc[i, \"total_buy_price\"] = np.sum(buy_price_list)\n",
    "                    df.loc[i, \"shares\"] = len(buy_price_list)\n",
    "                    df.loc[i, \"buy_price\"] = np.mean(buy_price_list)\n",
    "                elif x[\"trade\"] == None:\n",
    "                    if i > 0:\n",
    "                        df.loc[i, \"shares\"] = df.loc[i-1, \"shares\"]\n",
    "                        df.loc[i, \"buy_price\"] = df.loc[i-1, \"buy_price\"]\n",
    "                        df.loc[i, \"total_buy_price\"] = df.loc[i-1, \"total_buy_price\"]\n",
    "                elif x[\"trade\"] == \"sell\" and df.loc[i-1, \"shares\"] > 0:\n",
    "                    first_price = buy_price_list.pop(0)\n",
    "                    df.loc[i, \"revenue\"] = df.loc[i, \"Close\"] - first_price\n",
    "                    df.loc[i, \"rate\"] = df.loc[i, \"revenue\"] / first_price * 100\n",
    "                    df.loc[i, \"sell_price\"] = df.loc[i, \"Close\"]\n",
    "                    df.loc[i, \"shares\"] = len(buy_price_list)\n",
    "                    if len(buy_price_list) > 0:\n",
    "                        df.loc[i, \"total_buy_price\"] = np.sum(buy_price_list)\n",
    "                        df.loc[i, \"buy_price\"] = np.mean(buy_price_list)\n",
    "                    else:\n",
    "                        df.loc[i, \"total_buy_price\"] = 0\n",
    "                        df.loc[i, \"buy_price\"] = 0\n",
    "            \n",
    "            r_dict = {\n",
    "                \"symbol\" : df.iloc[-1][\"Symbol\"],\n",
    "                \"date\" : df.iloc[-1][\"Date\"],\n",
    "                \"trade_signal\" : df.iloc[-1][\"trade\"],\n",
    "                \"price\" : df.iloc[-1][\"Close\"]\n",
    "            }\n",
    "            return r_dict\n",
    "            \n",
    "        except Exception as e:\n",
    "            # self._post_message(e)\n",
    "            print(e)\n",
    "            pass\n",
    "\n",
    "    def _post_signal_to_slack(self):\n",
    "        df = pd.DataFrame()\n",
    "        buy_list = []\n",
    "        sell_list = []\n",
    "        idata= []\n",
    "\n",
    "        if self.market == \"kospi\":\n",
    "            for symbol in self.market_stock_dict[self.market]:\n",
    "                try:\n",
    "                    df = fdr.DataReader(symbol, start=self.start_date)\n",
    "                    df[\"Symbol\"] = symbol\n",
    "\n",
    "                    r_dict = self._make_signal(df)\n",
    "\n",
    "                    if r_dict[\"trade_signal\"] == \"buy\":\n",
    "                        buy_list.append(self.market_dict.get(r_dict[\"symbol\"]))\n",
    "                        print(r_dict)\n",
    "                        idata.append(r_dict)\n",
    "                    elif r_dict[\"trade_signal\"] == \"sell\":\n",
    "                        sell_list.append(self.market_dict.get(r_dict[\"symbol\"]))\n",
    "                        print(r_dict)\n",
    "                        idata.append(r_dict)\n",
    "                except Exception as e:\n",
    "                    # self._post_message(e)\n",
    "                    print(e)\n",
    "                    pass\n",
    "\n",
    "        elif self.market == \"sp500\":\n",
    "            for symbol in self.market_stock_dict[self.market]:\n",
    "                try:\n",
    "                    df = yf.download(symbol, start=self.start_date, show_errors=False)\n",
    "                    df[\"Symbol\"] = symbol\n",
    "                    \n",
    "                    r_dict = self._make_signal(df)\n",
    "\n",
    "                    if r_dict[\"trade_signal\"] == \"buy\":\n",
    "\n",
    "                        buy_list.append(r_dict[\"symbol\"])\n",
    "                        print(r_dict)\n",
    "                        idata.append(r_dict)\n",
    "                    elif r_dict[\"trade_signal\"] == \"sell\":\n",
    "                        sell_list.append(r_dict[\"symbol\"])\n",
    "                        print(r_dict)\n",
    "                        idata.append(r_dict)\n",
    "\n",
    "                except Exception as e:\n",
    "                    # self._post_message(e)\n",
    "                    print(e)\n",
    "                    pass\n",
    "            \n",
    "        # 구매 데이터\n",
    "        if len(buy_list) == 0:\n",
    "            self._post_message(\"Today not exists buy stocks\")\n",
    "        if len(buy_list) > 0:\n",
    "            self._post_message(\"Buy_stocks : %s\"%(buy_list))\n",
    "\n",
    "        # 판매 데이터\n",
    "        if len(sell_list) == 0:\n",
    "            self._post_message(\"Today not exists sell stocks\")\n",
    "        if len(sell_list) > 0:\n",
    "            self._post_message(\"Sell_stocks : %s\"%(sell_list))\n",
    "        \n",
    "        try:\n",
    "            df = pd.DataFrame.from_dict(idata)\n",
    "        except Exception as e:\n",
    "            self._post_message(e)\n",
    "            pass\n",
    "\n",
    "        return df\n",
    "        \n",
    "    def _get_priority_house_jungso(self):\n",
    "        driver = webdriver.Chrome(ChromeDriverManager().install())\n",
    "        url = \"https://www.smes.go.kr/sanhakin/websquare/wq_main.do\"\n",
    "        driver.get(url)\n",
    "        driver.implicitly_wait(10)\n",
    "        driver.find_element(By.XPATH, '//*[@id=\"genTopMenu_2_liTopMenu\"]').click()\n",
    "        driver.implicitly_wait(1)\n",
    "        driver.find_element(By.XPATH, '//*[@id=\"genLeftMenu_3_leftMenuGrp\"]').click()\n",
    "        driver.implicitly_wait(1)\n",
    "\n",
    "        idata = []\n",
    "        # pagelist1_page_2\n",
    "        search_date = datetime.today().date()\n",
    "        str_search_date = datetime.strftime(search_date, \"%Y-%m-%d\")\n",
    "        for page in range(1, 3):\n",
    "            # print(page)\n",
    "            driver.find_element(By.XPATH, '//*[@id=\"pagelist1_page_%s\"]'%page).click()\n",
    "\n",
    "            driver.implicitly_wait(1)\n",
    "            for table_order in range (0, 10):\n",
    "                title = driver.find_element_by_css_selector('#gridView1_cell_%s_0'%table_order).text\n",
    "                str_start_date = driver.find_element_by_css_selector('#gridView1_cell_%s_3'%table_order).text.split(' ')[0]\n",
    "                start_date = datetime.strptime(str_start_date, \"%Y-%m-%d\").date()\n",
    "                if search_date <= start_date:\n",
    "                    idict = {\n",
    "                        \"search_date\" : str_search_date,\n",
    "                        \"title\" : title,\n",
    "                        \"start_date\" : str_start_date\n",
    "                        }\n",
    "                    idata.append(idict)\n",
    "            if search_date > datetime.strptime(driver.find_element_by_css_selector('#gridView1_cell_9_3').text.split(' ')[0], \"%Y-%m-%d\").date():\n",
    "                print(datetime.strptime(driver.find_element_by_css_selector('#gridView1_cell_9_3').text.split(' ')[0], \"%Y-%m-%d\").date())\n",
    "                break\n",
    "        driver.quit()\n",
    "        if len(idata) > 0:\n",
    "            text = \"유효한 새로운 중소기업 장기근속자 주택 특별공급 없음\"\n",
    "            _post_message(self, text)\n",
    "        else:\n",
    "            text = idata\n",
    "            _post_message(self, text)\n",
    "        return idata\n",
    "\n",
    "    def work(self):\n",
    "        if __name__ == \"__main__\":\n",
    "            self._get_stock_list()\n",
    "        return self.market_stock_dict\n"
   ]
  },
  {
   "cell_type": "code",
   "execution_count": null,
   "metadata": {},
   "outputs": [],
   "source": [
    "market_stock_dict = BaseService().work()"
   ]
  },
  {
   "cell_type": "code",
   "execution_count": 10,
   "metadata": {},
   "outputs": [],
   "source": [
    "blocks = [\n",
    "        {\n",
    "            \"type\": \"section\",\n",
    "            \"text\": {\n",
    "                \"type\" : \"mrkdwn\",\n",
    "                \"text\" : \"마크다운 형식의 텍스트 테스트 메시지 발송\"\n",
    "            }\n",
    "        }\n",
    "    ]"
   ]
  },
  {
   "cell_type": "code",
   "execution_count": 11,
   "metadata": {},
   "outputs": [
    {
     "name": "stderr",
     "output_type": "stream",
     "text": [
      "C:\\Users\\senti\\AppData\\Local\\Programs\\Python\\Python36\\lib\\site-packages\\slack_sdk\\web\\internal_utils.py:271: UserWarning: The `text` argument is missing in the request payload for a chat.postMessage call - It's a best practice to always provide a `text` argument when posting a message. The `text` argument is used in places where content cannot be rendered such as: system push notifications, assistive technology such as screen readers, etc.\n",
      "  warnings.warn(message, UserWarning)\n"
     ]
    },
    {
     "name": "stdout",
     "output_type": "stream",
     "text": [
      "{'ok': True, 'channel': 'C02HFSLTCGZ', 'ts': '1650527236.806379', 'message': {'bot_id': 'B02MBPXL74Z', 'type': 'message', 'text': \"This content can't be displayed.\", 'user': 'U02MNS36XU0', 'ts': '1650527236.806379', 'app_id': 'A02MBPWAH7B', 'team': 'T9G6QKR96', 'bot_profile': {'id': 'B02MBPXL74Z', 'app_id': 'A02MBPWAH7B', 'name': 'StockTrader', 'icons': {'image_36': 'https://a.slack-edge.com/80588/img/plugins/app/bot_36.png', 'image_48': 'https://a.slack-edge.com/80588/img/plugins/app/bot_48.png', 'image_72': 'https://a.slack-edge.com/80588/img/plugins/app/service_72.png'}, 'deleted': False, 'updated': 1650524077, 'team_id': 'T9G6QKR96'}, 'blocks': [{'type': 'section', 'block_id': 'dX2', 'text': {'type': 'mrkdwn', 'text': '마크다운 형식의 텍스트 테스트 메시지 발송', 'verbatim': False}}]}}\n"
     ]
    }
   ],
   "source": [
    "BaseService()._post_message_with_slack_sdk(blocks=blocks)"
   ]
  },
  {
   "cell_type": "code",
   "execution_count": null,
   "metadata": {},
   "outputs": [],
   "source": [
    "ilist = []\n",
    "for stock in market_stock_dict[\"kospi\"]:\n",
    "    symbol = stock+\".KS\"\n",
    "    ilist.append(yf.Ticker(symbol).info)\n",
    "market_info_df = pd.DataFrame(ilist)\n",
    "market_info_df.head()"
   ]
  },
  {
   "cell_type": "code",
   "execution_count": null,
   "metadata": {},
   "outputs": [],
   "source": [
    "kospi_df = pd.DataFrame(ilist)\n",
    "kospi_df.head()"
   ]
  },
  {
   "cell_type": "code",
   "execution_count": null,
   "metadata": {},
   "outputs": [],
   "source": [
    "kospi_df['sharesOutstanding']"
   ]
  },
  {
   "cell_type": "code",
   "execution_count": null,
   "metadata": {},
   "outputs": [],
   "source": [
    "import yfinance as yf\n",
    "total_df = pd.DataFrame()\n",
    "for symbol in list(market_stock_dict[\"kospi\"].keys()):\n",
    "    df = yf.download(symbol+\".KS\", start=BaseService().start_date, auto_adjust = True, action=True, threads=False).reset_index()\n",
    "    # y_df[\"Symbol\"] = symbol\n",
    "    # signal_dict, df =_make_cci_signal(BaseService(), y_df)\n",
    "    # total_df = total_df.append(df)\n",
    "    break\n",
    "\n",
    "df.head()"
   ]
  },
  {
   "cell_type": "code",
   "execution_count": null,
   "metadata": {},
   "outputs": [],
   "source": [
    "df[\"TP\"] = (df[\"High\"] + df[\"Low\"] + df[\"Close\"]) / 3\n",
    "df[\"sma\"] = df[\"TP\"].rolling(20).mean()\n",
    "df[\"mad\"] = df[\"TP\"].rolling(20).apply(lambda x: pd.Series(x).mad())\n",
    "df[\"CCI\"] = (df[\"TP\"] - df[\"sma\"]) / (0.015 * df[\"mad\"])\n",
    "df[\"pre1day_CCI\"] = df[\"CCI\"].shift(1)"
   ]
  },
  {
   "cell_type": "code",
   "execution_count": null,
   "metadata": {},
   "outputs": [],
   "source": [
    "yf.download(\"282330.KS\", start=str_start_date, auto_adjust=True).reset_index()"
   ]
  },
  {
   "cell_type": "code",
   "execution_count": null,
   "metadata": {},
   "outputs": [],
   "source": [
    "financial_engineering_days = 252\n",
    "end_date = datetime.today().date()\n",
    "str_end_date = datetime.strftime(end_date, \"%Y-%m-%d\")\n",
    "start_date = (end_date - timedelta(days=financial_engineering_days))\n",
    "str_start_date = datetime.strftime(start_date, \"%Y-%m-%d\")\n",
    "idata = []\n",
    "for stock in market_stock_dict[\"kospi\"]:\n",
    "    df = pd.DataFrame()\n",
    "    symbol = stock+\".KS\"\n",
    "    print(symbol)\n",
    "    datetime.today().date()\n",
    "    try:\n",
    "        df = yf.Ticker(symbol).history(interval=\"1d\", start = str_start_date, end = str_end_date, auto_adjust=True).reset_index()\n",
    "        df = df[df[\"Volume\"]>0].reset_index(drop=True)\n",
    "        config_ndays = 20\n",
    "        \n",
    "        # 수익률 계산하기\n",
    "        df[\"daily_rtn\"] = df[\"Close\"].pct_change()  # 퍼센트 변화율\n",
    "        df[\"st_rtn\"] = (1 + df[\"daily_rtn\"]).cumprod()  # 누적곱 계산함수 return cumulative product over a DataFrame or Series axis.\n",
    "        gagr = (df.iloc[-1]['st_rtn'] ** (financial_engineering_days / len(df.index)) - 1) * 100\n",
    "\n",
    "        df[\"TP\"] = (df[\"High\"] + df[\"Low\"] + df[\"Close\"]) / 3\n",
    "        df[\"sma\"] = df[\"TP\"].rolling(config_ndays).mean()\n",
    "        df[\"mad\"] = df[\"TP\"].rolling(config_ndays).apply(lambda x: pd.Series(x).mad())\n",
    "        df[\"CCI\"] = (df[\"TP\"] - df[\"sma\"]) / (0.015 * df[\"mad\"])\n",
    "\n",
    "        df[\"pre1day_cci\"] = df[\"CCI\"].shift(1)\n",
    "        df[\"trade\"] = None\n",
    "        df[\"trade\"] = np.where((df[\"CCI\"] >= -100) & (df[\"pre1day_cci\"] < -100), \"buy\", df[\"trade\"])\n",
    "        df[\"trade\"] = np.where((df[\"CCI\"] <= 100) & (df[\"pre1day_cci\"] > 100), \"sell\", df[\"trade\"])\n",
    "\n",
    "        df[\"total_buy_price\"] = 0\n",
    "        df[\"shares\"] = 0\n",
    "        df[\"buy_price\"] = 0\n",
    "        df[\"sell_price\"] = 0\n",
    "        df[\"revenue\"] = 0\n",
    "        df[\"rate\"] = 0\n",
    "\n",
    "        buy_price_list = []\n",
    "        for i, x in df.iterrows():\n",
    "            if x[\"trade\"] == \"buy\":\n",
    "                buy_price_list.append(x[\"Close\"])\n",
    "                df.loc[i, \"total_buy_price\"] = np.sum(buy_price_list)\n",
    "                df.loc[i, \"shares\"] = len(buy_price_list)\n",
    "                df.loc[i, \"buy_price\"] = np.mean(buy_price_list)\n",
    "            elif x[\"trade\"] == None:\n",
    "                if i > 0:\n",
    "                    df.loc[i, \"shares\"] = df.loc[i-1, \"shares\"]\n",
    "                    df.loc[i, \"buy_price\"] = df.loc[i-1, \"buy_price\"]\n",
    "                    df.loc[i, \"total_buy_price\"] = df.loc[i-1, \"total_buy_price\"]\n",
    "            elif x[\"trade\"] == \"sell\" and df.loc[i-1, \"shares\"] > 0:\n",
    "                first_price = buy_price_list.pop(0)\n",
    "                df.loc[i, \"revenue\"] = df.loc[i, \"Close\"] - first_price\n",
    "                df.loc[i, \"rate\"] = df.loc[i, \"revenue\"] / first_price * 100\n",
    "                df.loc[i, \"sell_price\"] = df.loc[i, \"Close\"]\n",
    "                df.loc[i, \"shares\"] = len(buy_price_list)\n",
    "                if len(buy_price_list) > 0:\n",
    "                    df.loc[i, \"total_buy_price\"] = np.sum(buy_price_list)\n",
    "                    df.loc[i, \"buy_price\"] = np.mean(buy_price_list)\n",
    "                else:\n",
    "                    df.loc[i, \"total_buy_price\"] = 0\n",
    "                    df.loc[i, \"buy_price\"] = 0\n",
    "\n",
    "        r_dict = {\n",
    "            \"symbol\" : symbol,\n",
    "            \"date\" : datetime.strftime(df.iloc[-1][\"Date\"], \"%Y-%m-%d\"),\n",
    "            \"trade_signal\" : df.iloc[-1][\"trade\"],\n",
    "            \"price\" : df.iloc[-1][\"Close\"],\n",
    "            \"remain_shares\" : df.iloc[-1][\"shares\"],\n",
    "            \"holding_shares_buy_price\" : df.iloc[-1][\"buy_price\"],\n",
    "            \"cci_rtn\" : df[df[\"trade\"] == \"sell\"].iloc[-1][\"rate\"],\n",
    "            \"buy_and_hold_rtn\" : gagr\n",
    "        }\n",
    "        idata.append(r_dict)\n",
    "    except Exception as e:\n",
    "        print(e)\n",
    "        pass\n",
    "    print(r_dict)"
   ]
  },
  {
   "cell_type": "code",
   "execution_count": null,
   "metadata": {},
   "outputs": [],
   "source": [
    "df.head(40)"
   ]
  },
  {
   "cell_type": "code",
   "execution_count": null,
   "metadata": {},
   "outputs": [],
   "source": [
    "df[\"buy_price\"] = None\n",
    "for i, x in df.iterrows():\n",
    "    df.loc[i, \"buy_price\"] = \n",
    "    break"
   ]
  },
  {
   "cell_type": "code",
   "execution_count": null,
   "metadata": {},
   "outputs": [],
   "source": [
    "print(round(total_df[total_df[\"trade\"]==\"Buy\"].groupby([\"Date\"])[\"Symbol\"].nunique().reset_index(name=\"buy_count\")[\"buy_count\"].mean(), 2))\n",
    "print(round(total_df[total_df[\"trade\"]==\"Sell\"].groupby([\"Date\"])[\"Symbol\"].nunique().reset_index(name=\"sell_count\")[\"sell_count\"].mean(), 2))"
   ]
  },
  {
   "cell_type": "code",
   "execution_count": null,
   "metadata": {},
   "outputs": [],
   "source": [
    "total_df[\"Date\"].iloc[-1]"
   ]
  },
  {
   "cell_type": "code",
   "execution_count": null,
   "metadata": {},
   "outputs": [],
   "source": [
    "total_df[total_df[\"trade\"]==\"Buy\"].sort_values(\"Date\")"
   ]
  },
  {
   "cell_type": "code",
   "execution_count": null,
   "metadata": {},
   "outputs": [],
   "source": [
    "buy_df = total_df[total_df[\"trade\"] == \"Buy\"].sort_values(\"Date\").reset_index(drop=True)\n",
    "buy_df[buy_df[\"Date\"]==buy_df[\"Date\"].iloc[-1]]"
   ]
  },
  {
   "cell_type": "code",
   "execution_count": null,
   "metadata": {},
   "outputs": [],
   "source": [
    "print(total_df[(total_df[\"trade\"]==\"Buy\") & (total_df[\"Date\"] == total_df[\"Date\"].iloc[-1])][\"Symbol\"].nunique())\n",
    "total_df[(total_df[\"trade\"]==\"Sell\") & (total_df[\"Date\"] == total_df[\"Date\"].iloc[-1])][\"Symbol\"].nunique()"
   ]
  },
  {
   "cell_type": "code",
   "execution_count": null,
   "metadata": {},
   "outputs": [],
   "source": [
    "print(round(total_df[total_df[\"trade\"]==\"Buy\"].iloc[-1][\"Symbol\"].nunique(), 2))\n",
    "print(round(total_df[total_df[\"trade\"]==\"Sell\"].iloc[-1][\"Symbol\"], 2))"
   ]
  },
  {
   "cell_type": "code",
   "execution_count": null,
   "metadata": {},
   "outputs": [],
   "source": [
    "df, buy_stock_list, sell_stock_list = _collect_cci_signal(BaseService(), market_stock_dict)\n",
    "df.head()"
   ]
  },
  {
   "cell_type": "code",
   "execution_count": null,
   "metadata": {},
   "outputs": [],
   "source": []
  },
  {
   "cell_type": "code",
   "execution_count": null,
   "metadata": {},
   "outputs": [],
   "source": [
    "buy_df = df[df[\"name\"].isin(buy_stock_list)]\n",
    "sell_df = df[df[\"name\"].isin(sell_stock_list)]\n",
    "stock_info_list = []\n",
    "\n",
    "for i, x in buy_df.iterrows():\n",
    "    candidate_dict = {\n",
    "        \"type\" : \"section\",\n",
    "        \"text\" : {\n",
    "            \"type\" : \"mrkdwn\",\n",
    "            \"text\" : f'매매신호 : {x[\"trade_signal\"]}\\n\\\n",
    "이름 : {x[\"name\"]}\\n\\\n",
    "symbol : {x[\"symbol\"]}\\n\\\n",
    "매매신호가격 : {x[\"signal_price\"]}\\n\\\n",
    "CCI수익률-구매후보유수익률 : {x[\"cci_buy_and_hold_diff_rtn\"]}\\n\\\n",
    "{BaseService().start_date}CCI수익률 : {x[\"cci_rtn\"]}\\n\\\n",
    "{BaseService().start_date}구매후보유수익률 : {x[\"buy_and_hold_rtn\"]}\\n\\\n",
    "{BaseService().target_days}일 이내 평균최고수익률 : {x[\"max_rtn\"]}\\n\\\n",
    "{BaseService().target_days}일 이내 구매 후 평균최고수익일수 : {x[\"max_rtn_day\"]}\\n\\\n",
    "CCI전략수행시 보유주식수 : {x[\"remain_holding_shares\"]}\\n\\\n",
    "CCI전략수행시 보유주식 평균 구매가격: {x[\"holding_shares_buy_price\"]}'\n",
    "}\n",
    "}\n",
    "    stock_info_list.append(candidate_dict)\n",
    "\n",
    "for i, x in sell_df.iterrows():\n",
    "    candidate_dict = {\n",
    "        \"type\" : \"section\",\n",
    "        \"text\" : {\n",
    "            \"type\" : \"mrkdwn\",\n",
    "            \"text\" : f'매매신호 : {x[\"trade_signal\"]}\\n\\\n",
    "이름 : {x[\"name\"]}\\n\\\n",
    "symbol : {x[\"symbol\"]}\\n\\\n",
    "매매신호가격 : {x[\"signal_price\"]}\\n\\\n",
    "CCI수익률-구매후보유수익률 : {x[\"cci_buy_and_hold_diff_rtn\"]}\\n\\\n",
    "{BaseService().start_date}CCI수익률 : {x[\"cci_rtn\"]}\\n\\\n",
    "{BaseService().start_date}구매후보유수익률 : {x[\"buy_and_hold_rtn\"]}\\n\\\n",
    "{BaseService().target_days}일 이내 평균최고수익률 : {x[\"max_rtn\"]}\\n\\\n",
    "{BaseService().target_days}일 이내 구매 후 평균최고수익일수 : {x[\"max_rtn_day\"]}\\n\\\n",
    "CCI전략수행시 보유주식수 : {x[\"remain_holding_shares\"]}\\n\\\n",
    "CCI전략수행시 보유주식 평균 구매가격: {x[\"holding_shares_buy_price\"]}'\n",
    "}\n",
    "}\n",
    "    stock_info_list.append(candidate_dict)\n",
    "print(stock_info_list)"
   ]
  },
  {
   "cell_type": "code",
   "execution_count": null,
   "metadata": {},
   "outputs": [],
   "source": [
    "_post_message_with_slack_sdk(BaseService(), blocks=stock_info_list)"
   ]
  },
  {
   "cell_type": "code",
   "execution_count": null,
   "metadata": {},
   "outputs": [],
   "source": [
    "buy_stock_list = df[df[\"trade_signal\"]==\"Buy\"].sort_values([\"cci_buy_and_hold_diff_rtn\", f\"within_{BaseService().target_days}days_expected_rtn\"], ascending=False)[\"name\"].tolist()[:BaseService().max_trade_stock_count]\n",
    "buy_stock_list"
   ]
  },
  {
   "cell_type": "code",
   "execution_count": null,
   "metadata": {},
   "outputs": [],
   "source": [
    "sell_stock_list = df[df[\"trade_signal\"]==\"Sell\"].sort_values([\"cci_buy_and_hold_diff_rtn\", f\"within_{BaseService().target_days}days_expected_rtn\"])[\"name\"].tolist()[:BaseService().max_trade_stock_count]\n",
    "sell_stock_list"
   ]
  },
  {
   "cell_type": "code",
   "execution_count": null,
   "metadata": {},
   "outputs": [],
   "source": [
    "df[df[\"name\"].isin(buy_stock_list)]"
   ]
  },
  {
   "cell_type": "code",
   "execution_count": null,
   "metadata": {},
   "outputs": [],
   "source": [
    "t_list = range(1, 6)\n",
    "t_list"
   ]
  },
  {
   "cell_type": "code",
   "execution_count": null,
   "metadata": {},
   "outputs": [],
   "source": [
    "df[df[\"trade_signal\"]==\"Sell\"].sort_values([\"cci_buy_and_hold_diff_rtn\", \"within_7days_expected_rtn\"])"
   ]
  },
  {
   "cell_type": "code",
   "execution_count": null,
   "metadata": {},
   "outputs": [],
   "source": [
    "df[df[\"trade_signal\"]==\"Buy\"].sort_values([\"cci_buy_and_hold_diff_rtn\", \"within_7days_expected_rtn\"], ascending=False)"
   ]
  },
  {
   "cell_type": "code",
   "execution_count": null,
   "metadata": {},
   "outputs": [],
   "source": [
    "r_df[[\"after_1day_price\", \"Close\"]]"
   ]
  },
  {
   "cell_type": "code",
   "execution_count": null,
   "metadata": {},
   "outputs": [],
   "source": [
    "df[~df[\"trade\"].isnull()].head(20)"
   ]
  },
  {
   "cell_type": "code",
   "execution_count": null,
   "metadata": {},
   "outputs": [],
   "source": [
    "df.info()"
   ]
  },
  {
   "cell_type": "code",
   "execution_count": null,
   "metadata": {},
   "outputs": [],
   "source": [
    "def _get_kr_stock_info():\n",
    "    r_data = []\n",
    "    params = {\n",
    "        \"ServiceKey\" : apisdata[\"getstockinfo\"][\"decoding_key\"],\n",
    "        \"pageNo\" : 1,\n",
    "        \"numOfRows\" : 9999,\n",
    "        \"resultType\" : \"json\"\n",
    "        }\n",
    "    url = apisdata[\"getstockinfo\"][\"request_url\"]\n",
    "    response = requests.get(url, params=params)\n",
    "    if response.ok:\n",
    "        get_dict = json.loads(response.text)\n",
    "        r_data = get_dict[\"response\"][\"body\"][\"items\"][\"item\"]\n",
    "\n",
    "    r_df = pd.DataFrame(r_data)\n",
    "\n",
    "    return r_df\n",
    "    "
   ]
  },
  {
   "cell_type": "code",
   "execution_count": null,
   "metadata": {},
   "outputs": [],
   "source": [
    "df = _get_kr_stock_info()\n",
    "# 상장폐지(lstgAbolDt) 안되었고, 예탁취소(dpsgCanDt)도 안된 종목만 본다.\n",
    "f_df = df[(df[\"lstgAbolDt\"] == '') & (df[\"dpsgCanDt\"] == '')]\n",
    "\n",
    "# 보통주\n",
    "common_df = f_df[f_df[\"scrsItmsKcdNm\"]==\"보통주\"]\n",
    "common_df\n"
   ]
  },
  {
   "cell_type": "code",
   "execution_count": null,
   "metadata": {},
   "outputs": [],
   "source": [
    "df.head()"
   ]
  },
  {
   "cell_type": "code",
   "execution_count": null,
   "metadata": {},
   "outputs": [],
   "source": [
    "df"
   ]
  },
  {
   "cell_type": "code",
   "execution_count": null,
   "metadata": {},
   "outputs": [],
   "source": [
    "df[df[\"stckIssuCmpyNm\"].str.contains(\"삼성\")]"
   ]
  },
  {
   "cell_type": "code",
   "execution_count": null,
   "metadata": {},
   "outputs": [],
   "source": [
    "kospi_tickers = fdr.StockListing(\"KOSPI\")[\"Symbol\"].tolist()\n",
    "kospi_tickers"
   ]
  },
  {
   "cell_type": "code",
   "execution_count": null,
   "metadata": {},
   "outputs": [],
   "source": [
    "for ticker in kospi_tickers:\n",
    "    df = fdr.DataReader(ticker)\n",
    "    df.head()\n",
    "    break"
   ]
  },
  {
   "cell_type": "code",
   "execution_count": null,
   "metadata": {},
   "outputs": [],
   "source": [
    "df"
   ]
  },
  {
   "cell_type": "code",
   "execution_count": null,
   "metadata": {},
   "outputs": [],
   "source": []
  },
  {
   "cell_type": "code",
   "execution_count": null,
   "metadata": {},
   "outputs": [],
   "source": []
  },
  {
   "cell_type": "code",
   "execution_count": null,
   "metadata": {},
   "outputs": [],
   "source": []
  },
  {
   "cell_type": "code",
   "execution_count": null,
   "metadata": {},
   "outputs": [],
   "source": [
    "datetime.strptime(\"09:00:00\", \"%H:%M:%S\").time()"
   ]
  },
  {
   "cell_type": "code",
   "execution_count": null,
   "metadata": {},
   "outputs": [],
   "source": [
    "datetime.combine((datetime.today() + timedelta(days=1)), datetime.strptime(\"09:00\", \"%H:%M\").time())"
   ]
  },
  {
   "cell_type": "code",
   "execution_count": null,
   "metadata": {},
   "outputs": [],
   "source": [
    "datetime.now().time().hour"
   ]
  },
  {
   "cell_type": "code",
   "execution_count": null,
   "metadata": {},
   "outputs": [],
   "source": [
    "if datetime.now().time() < time(hour=15, minute=9):\n",
    "    print(\"aaa\")"
   ]
  }
 ],
 "metadata": {
  "interpreter": {
   "hash": "570feb405e2e27c949193ac68f46852414290d515b0ba6e5d90d076ed2284471"
  },
  "kernelspec": {
   "display_name": "Python 3.8.10 64-bit",
   "language": "python",
   "name": "python3"
  },
  "language_info": {
   "codemirror_mode": {
    "name": "ipython",
    "version": 3
   },
   "file_extension": ".py",
   "mimetype": "text/x-python",
   "name": "python",
   "nbconvert_exporter": "python",
   "pygments_lexer": "ipython3",
   "version": "3.8.10"
  },
  "orig_nbformat": 4
 },
 "nbformat": 4,
 "nbformat_minor": 2
}
