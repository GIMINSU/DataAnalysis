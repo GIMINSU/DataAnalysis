{
 "cells": [
  {
   "cell_type": "code",
   "execution_count": 29,
   "metadata": {},
   "outputs": [],
   "source": [
    "from selenium import webdriver\n",
    "from selenium.webdriver.common.by import By\n",
    "\n",
    "# pip install webdriver-manager  ## 항상 최신 버전의 chromedriver를 자동으로 사용\n",
    "from webdriver_manager.chrome import ChromeDriverManager\n",
    "from bs4 import BeautifulSoup\n",
    "import pandas as pd\n",
    "# 한국 주식 및 etf \n",
    "import FinanceDataReader as fdr\n",
    "import yfinance as yf\n",
    "\n",
    "from datetime import datetime\n",
    "from slack_message import _post_message\n",
    "from public_data_config import apisdata"
   ]
  },
  {
   "cell_type": "code",
   "execution_count": 30,
   "metadata": {},
   "outputs": [],
   "source": [
    "str_date = datetime.strftime(datetime.today().date(), \"%Y-%m-%d\")"
   ]
  },
  {
   "cell_type": "code",
   "execution_count": 53,
   "metadata": {},
   "outputs": [],
   "source": [
    "class JungsoHouse():\n",
    "    self.token = apisdata[\"slack\"][\"token\"]\n",
    "    self.channel = apisdata[\"slack\"][\"channel\"]\n"
   ]
  },
  {
   "cell_type": "code",
   "execution_count": 52,
   "metadata": {},
   "outputs": [
    {
     "name": "stderr",
     "output_type": "stream",
     "text": [
      "\n",
      "\n",
      "====== WebDriver manager ======\n",
      "Current google-chrome version is 100.0.4896\n",
      "Get LATEST chromedriver version for 100.0.4896 google-chrome\n",
      "Driver [C:\\Users\\senti\\.wdm\\drivers\\chromedriver\\win32\\100.0.4896.60\\chromedriver.exe] found in cache\n"
     ]
    },
    {
     "name": "stdout",
     "output_type": "stream",
     "text": [
      "2022-04-08\n"
     ]
    },
    {
     "data": {
      "text/plain": [
       "[{'search_date': '2022-04-12',\n",
       "  'title': \" (경남)'김해 구산 푸르지오 파크테르' 중소기업 장기근속자 주택우선공급 추천 안내\",\n",
       "  'start_date': '2022-04-11'},\n",
       " {'search_date': '2022-04-12',\n",
       "  'title': ' (충북) 서충주 푸르지오 더 퍼스트 아파트 중소기업 장기근속자 주택 특별공급 신청 안내',\n",
       "  'start_date': '2022-04-04'},\n",
       " {'search_date': '2022-04-12',\n",
       "  'title': \" (인천, 일정안내) '주안 센트럴 파라곤' 중소기업 장기근속자 주택 우선공급 추천대상자 발표일정 안내\",\n",
       "  'start_date': '2022-04-11'},\n",
       " {'search_date': '2022-04-12',\n",
       "  'title': \" (경기)'e편한세상 지축 센텀가든' 중소기업장기근속자 주택 특별공급 안내\",\n",
       "  'start_date': '2022-04-11'},\n",
       " {'search_date': '2022-04-12',\n",
       "  'title': \" (인천, 일정안내) '인천시청역 한신더휴' 중소기업 장기근속자 주택 우선공급 추천대상자 발표일정 안내\",\n",
       "  'start_date': '2022-04-11'},\n",
       " {'search_date': '2022-04-12',\n",
       "  'title': \" (전북, 기간추가연장)'익산평화지구 공공분양' 중소기업 장기근속자 주택 우선공급 대상자 추천 계획 알림\",\n",
       "  'start_date': '2022-04-11'},\n",
       " {'search_date': '2022-04-12',\n",
       "  'title': \" (부산)'초읍 월드메르디앙 에듀포레' 중소기업장기근속자 주택 특별공급(민간사전청약)안내\",\n",
       "  'start_date': '2022-04-11'},\n",
       " {'search_date': '2022-04-12',\n",
       "  'title': \" (부산-일정변경)'센텀 아스트룸 SK VIEW' 중소기업 장기근속자 주택우선공급 추천 일정변경 안내\",\n",
       "  'start_date': '2022-04-08'},\n",
       " {'search_date': '2022-04-12',\n",
       "  'title': \" (대구경북-일정연기)'힐스테이트 환호공원 2블럭' 중소기업 장기근속자 주택우선공급 기관추천 안내\",\n",
       "  'start_date': '2022-04-08'},\n",
       " {'search_date': '2022-04-12',\n",
       "  'title': \" (대구경북-일정연기)'힐스테이트 환호공원 1블럭' 중소기업 장기근속자 주택우선공급 기관추천 안내\",\n",
       "  'start_date': '2022-04-08'}]"
      ]
     },
     "execution_count": 52,
     "metadata": {},
     "output_type": "execute_result"
    }
   ],
   "source": []
  },
  {
   "cell_type": "code",
   "execution_count": 38,
   "metadata": {},
   "outputs": [
    {
     "data": {
      "text/plain": [
       "[]"
      ]
     },
     "execution_count": 38,
     "metadata": {},
     "output_type": "execute_result"
    }
   ],
   "source": [
    "idata"
   ]
  },
  {
   "cell_type": "code",
   "execution_count": null,
   "metadata": {},
   "outputs": [],
   "source": [
    "from oauth2client.service_account import ServiceAccountCredentials\n",
    "import gspread\n",
    "\n",
    "scope = [\n",
    "    \"https://spreadsheets.google.com/feeds\",\n",
    "    \"https://www.googleapis.com/auth/drive\",\n",
    "]\n",
    "\n",
    "json_key_path = \"C:/Users/senti/Downloads/test1203-50829129-4c942ce19e74.json\"\n",
    "credential = ServiceAccountCredentials.from_json_keyfile_name(json_key_path, scope)\n",
    "gc = gspread.authorize(credential)"
   ]
  },
  {
   "cell_type": "code",
   "execution_count": null,
   "metadata": {},
   "outputs": [],
   "source": []
  },
  {
   "cell_type": "code",
   "execution_count": null,
   "metadata": {},
   "outputs": [],
   "source": [
    "# URL로 열기\n",
    "spreadsheet_url = \"https://docs.google.com/spreadsheets/d/1CyFzcQDo6EAweMqazYsC9dW_7vR-PIgV2X8GJB5vVWU/edit#gid=0\"\n",
    "doc = gc.open_by_url(spreadsheet_url).sheet1"
   ]
  },
  {
   "cell_type": "code",
   "execution_count": null,
   "metadata": {},
   "outputs": [],
   "source": [
    "doc.update(\"A1\", [[1,2],[3,4]])"
   ]
  },
  {
   "cell_type": "code",
   "execution_count": 1,
   "metadata": {},
   "outputs": [],
   "source": []
  },
  {
   "cell_type": "code",
   "execution_count": null,
   "metadata": {},
   "outputs": [],
   "source": [
    "yf.Ticker(\"005935.ks\").info[\"sharesOutstanding\"]"
   ]
  },
  {
   "cell_type": "code",
   "execution_count": 2,
   "metadata": {},
   "outputs": [
    {
     "name": "stderr",
     "output_type": "stream",
     "text": [
      "\n",
      "\n",
      "====== WebDriver manager ======\n",
      "Current google-chrome version is 100.0.4896\n",
      "Get LATEST chromedriver version for 100.0.4896 google-chrome\n",
      "Driver [C:\\Users\\senti\\.wdm\\drivers\\chromedriver\\win32\\100.0.4896.60\\chromedriver.exe] found in cache\n"
     ]
    },
    {
     "name": "stdout",
     "output_type": "stream",
     "text": [
      " (경남)'김해 구산 푸르지오 파크테르' 중소기업 장기근속자 주택우선공급 추천 안내\n",
      "2022-04-11 ~ 2022-04-18\n"
     ]
    }
   ],
   "source": [
    "driver = webdriver.Chrome(ChromeDriverManager().install())\n",
    "url = \"https://www.smes.go.kr/sanhakin/websquare/wq_main.do\"\n",
    "driver.get(url)\n",
    "driver.implicitly_wait(10)\n",
    "driver.find_element(By.XPATH, '//*[@id=\"genTopMenu_2_liTopMenu\"]').click()\n",
    "driver.implicitly_wait(1)\n",
    "driver.find_element(By.XPATH, '//*[@id=\"genLeftMenu_3_leftMenuGrp\"]').click()\n",
    "driver.implicitly_wait(1)\n",
    "r_list = []\n",
    "print(driver.find_element_by_css_selector('#gridView1_cell_0_0').text)\n",
    "print(driver.find_element_by_css_selector('#gridView1_cell_0_3').text)\n",
    "# r = driver.find_element(By.ID, 'gridView1_cell_0_0')\n",
    "# soup = BeautifulSoup(r, \"html.parser\")\n",
    "# soup\n",
    "# driver.quit()\n"
   ]
  },
  {
   "cell_type": "code",
   "execution_count": 6,
   "metadata": {},
   "outputs": [
    {
     "name": "stdout",
     "output_type": "stream",
     "text": [
      " (경남)'김해 구산 푸르지오 파크테르' 중소기업 장기근속자 주택우선공급 추천 안내\n",
      " (충북) 서충주 푸르지오 더 퍼스트 아파트 중소기업 장기근속자 주택 특별공급 신청 안내\n",
      " (인천, 일정안내) '주안 센트럴 파라곤' 중소기업 장기근속자 주택 우선공급 추천대상자 발표일정 안내\n",
      " (경기)'e편한세상 지축 센텀가든' 중소기업장기근속자 주택 특별공급 안내\n",
      " (인천, 일정안내) '인천시청역 한신더휴' 중소기업 장기근속자 주택 우선공급 추천대상자 발표일정 안내\n",
      " (전북, 기간추가연장)'익산평화지구 공공분양' 중소기업 장기근속자 주택 우선공급 대상자 추천 계획 알림\n",
      " (부산)'초읍 월드메르디앙 에듀포레' 중소기업장기근속자 주택 특별공급(민간사전청약)안내\n",
      " (부산-일정변경)'센텀 아스트룸 SK VIEW' 중소기업 장기근속자 주택우선공급 추천 일정변경 안내\n",
      " (대구경북-일정연기)'힐스테이트 환호공원 2블럭' 중소기업 장기근속자 주택우선공급 기관추천 안내\n",
      " (대구경북-일정연기)'힐스테이트 환호공원 1블럭' 중소기업 장기근속자 주택우선공급 기관추천 안내\n"
     ]
    }
   ],
   "source": [
    "for i in range(0, 10):\n",
    "    print(driver.find_element_by_css_selector('#gridView1_cell_%s_0'%i).text)"
   ]
  },
  {
   "cell_type": "code",
   "execution_count": null,
   "metadata": {},
   "outputs": [],
   "source": []
  },
  {
   "cell_type": "code",
   "execution_count": 3,
   "metadata": {},
   "outputs": [],
   "source": [
    "a = driver.find_element_by_css_selector('#gridView1_cell_0_3').text"
   ]
  },
  {
   "cell_type": "code",
   "execution_count": 5,
   "metadata": {},
   "outputs": [
    {
     "data": {
      "text/plain": [
       "'2022-04-11'"
      ]
     },
     "execution_count": 5,
     "metadata": {},
     "output_type": "execute_result"
    }
   ],
   "source": [
    "from datetime import datetime\n",
    "a.split(' ')[0]."
   ]
  },
  {
   "cell_type": "code",
   "execution_count": null,
   "metadata": {},
   "outputs": [],
   "source": []
  }
 ],
 "metadata": {
  "interpreter": {
   "hash": "1baa965d5efe3ac65b79dfc60c0d706280b1da80fedb7760faf2759126c4f253"
  },
  "kernelspec": {
   "display_name": "Python 3.8.10 64-bit",
   "language": "python",
   "name": "python3"
  },
  "language_info": {
   "codemirror_mode": {
    "name": "ipython",
    "version": 3
   },
   "file_extension": ".py",
   "mimetype": "text/x-python",
   "name": "python",
   "nbconvert_exporter": "python",
   "pygments_lexer": "ipython3",
   "version": "3.6.8"
  },
  "orig_nbformat": 4
 },
 "nbformat": 4,
 "nbformat_minor": 2
}
