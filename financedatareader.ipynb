{
 "cells": [
  {
   "cell_type": "code",
   "execution_count": 1,
   "metadata": {},
   "outputs": [
    {
     "name": "stdout",
     "output_type": "stream",
     "text": [
      "데이터 시작일 :  2020-11-09 2021-11-09\n"
     ]
    }
   ],
   "source": [
    "import FinanceDataReader as fdr\n",
    "from datetime import datetime, timedelta\n",
    "from dateutil.relativedelta import relativedelta\n",
    "import pandas as pd\n",
    "import numpy as np\n",
    "import yfinance as yf\n",
    "\n",
    "# 분석 시작일\n",
    "\n",
    "date_to = datetime.now().date() - timedelta(days=3)\n",
    "\n",
    "# 과거 데이터 확인 기간\n",
    "past_data_years = 1\n",
    "delta = relativedelta(years=past_data_years)\n",
    "\n",
    "# 데이터 시작일\n",
    "date_from = date_to - delta\n",
    "str_date_from = date_from.strftime('%Y-%m-%d')\n",
    "str_date_to = date_to.strftime('%Y-%m-%d')\n",
    "print('데이터 시작일 : ', str_date_from, str_date_to)\n",
    "\n",
    "# 시장 종류\n",
    "# 'S&P500', 'NASDAQ', 'NYSE', 'AMEX', 'SSE', 'SZSE', 'HKEX', 'TSE', 'HOSE', 'KRX'\n",
    "market = 'NASDAQ'"
   ]
  },
  {
   "cell_type": "code",
   "execution_count": 16,
   "metadata": {},
   "outputs": [
    {
     "name": "stderr",
     "output_type": "stream",
     "text": [
      "C:\\Program Files\\Python38\\lib\\site-packages\\FinanceDataReader\\wikipedia\\listing.py:13: FutureWarning: The default value of regex will change from True to False in a future version.\n",
      "  df['Symbol'] = df['Symbol'].str.replace('\\.', '')\n",
      "C:\\Users\\is\\AppData\\Local\\Temp/ipykernel_35360/1687164111.py:13: FutureWarning: The default value of regex will change from True to False in a future version.\n",
      "  df['Symbol'] = df['Symbol'].str.replace('/.', '')\n"
     ]
    },
    {
     "name": "stdout",
     "output_type": "stream",
     "text": [
      "S&P500\n"
     ]
    },
    {
     "name": "stderr",
     "output_type": "stream",
     "text": [
      "100%|██████████| 4304/4304 [00:05<00:00, 753.07it/s]\n",
      "C:\\Users\\is\\AppData\\Local\\Temp/ipykernel_35360/1687164111.py:19: FutureWarning: The default value of regex will change from True to False in a future version.\n",
      "  df['Symbol'] = df['Symbol'].str.replace('/.', '')\n"
     ]
    },
    {
     "name": "stdout",
     "output_type": "stream",
     "text": [
      "NASDAQ\n"
     ]
    },
    {
     "name": "stderr",
     "output_type": "stream",
     "text": [
      "100%|██████████| 3400/3400 [00:04<00:00, 798.18it/s]\n"
     ]
    },
    {
     "name": "stdout",
     "output_type": "stream",
     "text": [
      "NYSE\n",
      "KRX\n"
     ]
    },
    {
     "data": {
      "text/html": [
       "<div>\n",
       "<style scoped>\n",
       "    .dataframe tbody tr th:only-of-type {\n",
       "        vertical-align: middle;\n",
       "    }\n",
       "\n",
       "    .dataframe tbody tr th {\n",
       "        vertical-align: top;\n",
       "    }\n",
       "\n",
       "    .dataframe thead th {\n",
       "        text-align: right;\n",
       "    }\n",
       "</style>\n",
       "<table border=\"1\" class=\"dataframe\">\n",
       "  <thead>\n",
       "    <tr style=\"text-align: right;\">\n",
       "      <th></th>\n",
       "      <th>Symbol</th>\n",
       "      <th>Name</th>\n",
       "      <th>Sector</th>\n",
       "      <th>Industry</th>\n",
       "      <th>Market</th>\n",
       "      <th>IndustryCode</th>\n",
       "      <th>ListingDate</th>\n",
       "      <th>SettleMonth</th>\n",
       "      <th>Representative</th>\n",
       "      <th>HomePage</th>\n",
       "      <th>Region</th>\n",
       "    </tr>\n",
       "  </thead>\n",
       "  <tbody>\n",
       "    <tr>\n",
       "      <th>0</th>\n",
       "      <td>MMM</td>\n",
       "      <td>3M</td>\n",
       "      <td>Industrials</td>\n",
       "      <td>Industrial Conglomerates</td>\n",
       "      <td>S&amp;P500</td>\n",
       "      <td>NaN</td>\n",
       "      <td>NaT</td>\n",
       "      <td>NaN</td>\n",
       "      <td>NaN</td>\n",
       "      <td>NaN</td>\n",
       "      <td>NaN</td>\n",
       "    </tr>\n",
       "    <tr>\n",
       "      <th>1</th>\n",
       "      <td>ABT</td>\n",
       "      <td>Abbott Laboratories</td>\n",
       "      <td>Health Care</td>\n",
       "      <td>Health Care Equipment</td>\n",
       "      <td>S&amp;P500</td>\n",
       "      <td>NaN</td>\n",
       "      <td>NaT</td>\n",
       "      <td>NaN</td>\n",
       "      <td>NaN</td>\n",
       "      <td>NaN</td>\n",
       "      <td>NaN</td>\n",
       "    </tr>\n",
       "    <tr>\n",
       "      <th>2</th>\n",
       "      <td>ABBV</td>\n",
       "      <td>AbbVie</td>\n",
       "      <td>Health Care</td>\n",
       "      <td>Pharmaceuticals</td>\n",
       "      <td>S&amp;P500</td>\n",
       "      <td>NaN</td>\n",
       "      <td>NaT</td>\n",
       "      <td>NaN</td>\n",
       "      <td>NaN</td>\n",
       "      <td>NaN</td>\n",
       "      <td>NaN</td>\n",
       "    </tr>\n",
       "    <tr>\n",
       "      <th>3</th>\n",
       "      <td>ABMD</td>\n",
       "      <td>Abiomed</td>\n",
       "      <td>Health Care</td>\n",
       "      <td>Health Care Equipment</td>\n",
       "      <td>S&amp;P500</td>\n",
       "      <td>NaN</td>\n",
       "      <td>NaT</td>\n",
       "      <td>NaN</td>\n",
       "      <td>NaN</td>\n",
       "      <td>NaN</td>\n",
       "      <td>NaN</td>\n",
       "    </tr>\n",
       "    <tr>\n",
       "      <th>4</th>\n",
       "      <td>ACN</td>\n",
       "      <td>Accenture</td>\n",
       "      <td>Information Technology</td>\n",
       "      <td>IT Consulting &amp; Other Services</td>\n",
       "      <td>S&amp;P500</td>\n",
       "      <td>NaN</td>\n",
       "      <td>NaT</td>\n",
       "      <td>NaN</td>\n",
       "      <td>NaN</td>\n",
       "      <td>NaN</td>\n",
       "      <td>NaN</td>\n",
       "    </tr>\n",
       "  </tbody>\n",
       "</table>\n",
       "</div>"
      ],
      "text/plain": [
       "  Symbol                 Name                  Sector  \\\n",
       "0    MMM                   3M             Industrials   \n",
       "1    ABT  Abbott Laboratories             Health Care   \n",
       "2   ABBV               AbbVie             Health Care   \n",
       "3   ABMD              Abiomed             Health Care   \n",
       "4    ACN            Accenture  Information Technology   \n",
       "\n",
       "                         Industry  Market IndustryCode ListingDate  \\\n",
       "0        Industrial Conglomerates  S&P500          NaN         NaT   \n",
       "1           Health Care Equipment  S&P500          NaN         NaT   \n",
       "2                 Pharmaceuticals  S&P500          NaN         NaT   \n",
       "3           Health Care Equipment  S&P500          NaN         NaT   \n",
       "4  IT Consulting & Other Services  S&P500          NaN         NaT   \n",
       "\n",
       "  SettleMonth Representative HomePage Region  \n",
       "0         NaN            NaN      NaN    NaN  \n",
       "1         NaN            NaN      NaN    NaN  \n",
       "2         NaN            NaN      NaN    NaN  \n",
       "3         NaN            NaN      NaN    NaN  \n",
       "4         NaN            NaN      NaN    NaN  "
      ]
     },
     "execution_count": 16,
     "metadata": {},
     "output_type": "execute_result"
    }
   ],
   "source": [
    "# 시장별 ticker 가져오기\n",
    "market_list = ['S&P500', 'NASDAQ', 'NYSE', 'KRX']\n",
    "\n",
    "ticker_dict = dict()\n",
    "market_df = pd.DataFrame()\n",
    "\n",
    "for i in range(len(market_list)):\n",
    "    \n",
    "    market = market_list[i]\n",
    "    df = pd.DataFrame()\n",
    "    if i == 0:\n",
    "        df = fdr.StockListing(market)\n",
    "        df['Symbol'] = df['Symbol'].str.replace('/.', '')\n",
    "        df['Market'] = market\n",
    "        market_df = df\n",
    "        print(market_list[i])\n",
    "    else:\n",
    "        df = fdr.StockListing(market)\n",
    "        df['Symbol'] = df['Symbol'].str.replace('/.', '')\n",
    "        df['Market'] = market\n",
    "        market_df = market_df.append(df)\n",
    "        print(market_list[i])\n",
    "market_df.to_pickle()"
   ]
  },
  {
   "cell_type": "code",
   "execution_count": 18,
   "metadata": {},
   "outputs": [
    {
     "data": {
      "text/plain": [
       "Market\n",
       "KRX       6504\n",
       "NASDAQ    4304\n",
       "NYSE      3400\n",
       "S&P500     505\n",
       "Name: Symbol, dtype: int64"
      ]
     },
     "execution_count": 18,
     "metadata": {},
     "output_type": "execute_result"
    }
   ],
   "source": [
    "market_df.groupby('Market')['Symbol'].nunique()"
   ]
  },
  {
   "cell_type": "code",
   "execution_count": null,
   "metadata": {},
   "outputs": [],
   "source": []
  },
  {
   "cell_type": "code",
   "execution_count": null,
   "metadata": {},
   "outputs": [],
   "source": [
    "def make_inverstment_performance_indicator(df, target_price, date):\n",
    "    daily_rtn = 'daily_rnt' # 일별 수익률\n",
    "    st_rtn = 'st_rtn'  # 전략 수익률 수익률 누적의 곱\n",
    "\n",
    "    df[daily_rtn] = df[target_price].pct_change()  # 일별 수익률\n",
    "    df[st_rtn] = (1 + df[daily_rtn]).cumprod()  # 전략 수익률 = 수익률의 누적 곱\n",
    "    \n",
    "    # CAGR = Compound Annual Growth Rate 연평균 복리 수익률, 수익률이 높을 수록 좋다.\n",
    "    CAGR = df.loc[date, st_rtn] ** (252./len(df.index)) -1  # 특정 시점까지의  최종 누적 수익률의 누적 연도 제곱근, 금융공학에서 1년은 252 영업일\n",
    "\n",
    "    # MDD = Maximum Draw Down 최대 낙폭, MDD 값이 크면 변동성이 심한 주식\n",
    "    historical_max = df[target_price].cummax()\n",
    "    daily_drawdown = df[target_price] / historical_max - 1.0\n",
    "    historical_dd = daily_drawdown.cummin()\n",
    "    MDD = historical_dd.min()\n",
    "\n",
    "    # VOL = Volatility 휘발성, 변동성\n",
    "    VOL = np.std(df[daily_rtn]) * np.sqrt(252.)\n",
    "\n",
    "    # Sharp = ex-post Sharp ratio, 사후적 사프 비율\n",
    "    # 샤프지수와 같은 공식을 사용하지만, 자산의 실현 수익률을 사용한다는 점에서 다르다.\n",
    "    # 샤프지수는 위험 대비 수익성 지표를 의미함\n",
    "    # 실현 수익률의 산술 평균 / 실현 수익률의 변동성으로 계산함\n",
    "    # 보통 1 이상이면 좋다고 판단함\n",
    "\n",
    "    Sharp = np.mean(df[daily_rtn]) / VOL\n",
    "\n",
    "    return CAGR, Sharp, VOL, MDD\n",
    "    \n"
   ]
  },
  {
   "cell_type": "code",
   "execution_count": null,
   "metadata": {},
   "outputs": [],
   "source": [
    "data = yf.Ticker('MSFT')\n",
    "df = data.history(period='1d', start=str_date_from, end=str_date_to)['Close'].reset_index().set_index('Date')\n",
    "df.head()"
   ]
  },
  {
   "cell_type": "code",
   "execution_count": null,
   "metadata": {},
   "outputs": [],
   "source": [
    "df.index[-1]"
   ]
  },
  {
   "cell_type": "code",
   "execution_count": null,
   "metadata": {},
   "outputs": [],
   "source": [
    "select_stock_dict = dict()\n",
    "\n",
    "CAGR_criteria = 0.05 # 연평균 복리 수익률(Compound Annual Growth Rate)\n",
    "Sharp_criteria = 0.01  # 샤프 지수는 0.01 이상 되면 좋다고 판단한다. (VOL을 곱하기 100 해주면 Sharp는 1)\n",
    "VOL_criteria = 0.60  # 변동성 지수는 60 이상 -> 하루하루 변동성이 크면서 성장해야 단타를 자주 하지 않을까?\n",
    "MDD_criteria = -0.90  # 최대 낙폭은 1년 이내에 50%까지 하락한 경우가 있으면 허용한다.\n",
    "target_price = 'Close'  # 일별 종가를 기준으로 계산한다.\n",
    "\n",
    "for ticker in ticker_dict[market_list[0]]:\n",
    "    df = yf.Ticker(ticker).history(period='1y')\n",
    "    # df = fdr.DataReader(ticker, str_date_from, str_date_to)[target_price].reset_index().set_index('Date')\n",
    "    \n",
    "    if date_to in pd.to_datetime(df.index.tolist()):\n",
    "        CAGR, Sharp, VOL, MDD = make_inverstment_performance_indicator(df, target_price, str_date_to)\n",
    "        # print(ticker, CAGR, Sharp, VOL, MDD)\n",
    "        if CAGR >= CAGR_criteria and Sharp >= Sharp_criteria and VOL >= VOL_criteria and MDD >= MDD_criteria:\n",
    "            if ticker not in select_stock_dict:\n",
    "                select_stock_dict[ticker] = dict(\n",
    "                    CAGR = None,\n",
    "                    Sharp = None,\n",
    "                    VOL = None,\n",
    "                    MDD = None\n",
    "                )\n",
    "            if ticker in select_stock_dict:\n",
    "                select_stock_dict[ticker] = dict(\n",
    "                    CAGR = CAGR,\n",
    "                    Sharp = Sharp,\n",
    "                    VOL = VOL,\n",
    "                    MDD = -1*MDD*100\n",
    "                )\n",
    "select_stock_dict"
   ]
  },
  {
   "cell_type": "code",
   "execution_count": null,
   "metadata": {},
   "outputs": [],
   "source": [
    "fdr.DataReader('AAPL', '2020-01-01', '2020-01-03')"
   ]
  },
  {
   "cell_type": "code",
   "execution_count": null,
   "metadata": {},
   "outputs": [],
   "source": [
    "import pandas as pd\n",
    "\n",
    "url = 'http://kind.krx.co.kr/corpgeneral/corpList.do?method=download&searchType=13'\n",
    "\n",
    "df_listing = pd.read_html(url, header=0)[0]\n",
    "\n",
    "cols_ren = {'회사명':'Name', '종목코드':'Symbol', '업종':'Sector', '주요제품':'Industry', \n",
    "\n",
    "                    '상장일':'ListingDate', '결산월':'SettleMonth',  '대표자명':'Representative', \n",
    "\n",
    "                    '홈페이지':'HomePage', '지역':'Region', }\n",
    "\n",
    "df_listing = df_listing.rename(columns = cols_ren)\n",
    "\n",
    "df_listing['Symbol'] = df_listing['Symbol'].apply(lambda x: '{:06d}'.format(x))\n",
    "\n",
    "df_listing['ListingDate'] = pd.to_datetime(df_listing['ListingDate'])\n",
    "\n",
    "df_listing"
   ]
  },
  {
   "cell_type": "code",
   "execution_count": null,
   "metadata": {},
   "outputs": [],
   "source": [
    "ms_df = fdr.DataReader(nasdaq_ticker_df.iloc[0]['Symbol'], str_start_date, str_today_date)\n",
    "ms_df.head()"
   ]
  },
  {
   "cell_type": "code",
   "execution_count": null,
   "metadata": {},
   "outputs": [],
   "source": [
    "price_df = ms_df['Close'].reset_index().set_index('Date')"
   ]
  },
  {
   "cell_type": "code",
   "execution_count": null,
   "metadata": {},
   "outputs": [],
   "source": [
    "from_date = '2020-01-01'\n",
    "to_date = '2021-01-01'\n",
    "price_df.loc[from_date:to_date].plot(figsize=(16,9))"
   ]
  },
  {
   "cell_type": "code",
   "execution_count": null,
   "metadata": {},
   "outputs": [],
   "source": [
    "# 일별 수익률\n",
    "price_df['daily_rtn'] = price_df['Close'].pct_change()\n",
    "price_df.head()"
   ]
  },
  {
   "cell_type": "code",
   "execution_count": null,
   "metadata": {},
   "outputs": [],
   "source": [
    "# 바이앤 홀드 전략의 누적 곱 계산\n",
    "price_df['st_rtn'] = (1 + price_df['daily_rtn']).cumprod()\n",
    "price_df.head()"
   ]
  },
  {
   "cell_type": "code",
   "execution_count": null,
   "metadata": {},
   "outputs": [],
   "source": [
    "price_df['st_rtn'].plot(figsize=(16,9))"
   ]
  },
  {
   "cell_type": "code",
   "execution_count": null,
   "metadata": {},
   "outputs": [],
   "source": [
    "base_date = '2020-04-01'\n",
    "tmp_df = price_df.loc[base_date:,['st_rtn']] / price_df.loc[base_date,['st_rtn']]\n",
    "last_date = tmp_df.index[-1]\n",
    "print('누적 수익 : ', tmp_df.loc[last_date, 'st_rtn'])\n",
    "tmp_df.plot(figsize=(16,9))"
   ]
  },
  {
   "cell_type": "code",
   "execution_count": null,
   "metadata": {},
   "outputs": [],
   "source": [
    "### 투자 성과 분석 지표\n",
    "# 1. 연평균 복리 수익률\n",
    "# 기하 평균 N 개의 변수를 모두 곱한 값의 제곱근\n",
    "# 가장 최근일의 최종 누적 수익률의 누적 연도 제곱근을 구한다. 금융공학에서 1년은 252 영업일로 계산\n",
    "# ** 제곱\n",
    "CAGR = price_df.loc[str_today_date, 'st_rtn'] ** (252/len(price_df.index)) - 1\n",
    "CAGR"
   ]
  },
  {
   "cell_type": "code",
   "execution_count": null,
   "metadata": {},
   "outputs": [],
   "source": [
    "# 2. 최대 낙폭(MDD Maximum Daily Drawdown)\n",
    "historical_max = price_df['Close'].cummax()\n",
    "daily_drawdown = price_df['Close'] / historical_max - 1.0\n",
    "historical_dd = daily_drawdown.cummin()\n",
    "historical_dd.plot()\n"
   ]
  },
  {
   "cell_type": "code",
   "execution_count": null,
   "metadata": {},
   "outputs": [],
   "source": [
    "historical_dd[-1]"
   ]
  },
  {
   "cell_type": "code",
   "execution_count": null,
   "metadata": {},
   "outputs": [],
   "source": [
    "# 3. 변동성\n",
    "# 변동성은 금융 자산의 방향성에 대한 불확실성과 가격 등락에 대한 위험 예상 지표로 해석\n",
    "# 수익률의 표준편차를 변동성으로 계산함\n",
    "VOL = np.std(price_df['daily_rtn']) * np.sqrt(252.)\n",
    "VOL"
   ]
  },
  {
   "cell_type": "code",
   "execution_count": null,
   "metadata": {},
   "outputs": [],
   "source": [
    "# 4. 샤프 지수\n",
    "# 샤프 지수는 위험 대비 수익성 지표라고 볼 수 있다.\n",
    "# Ra 는 자산 수익률 Rb 는 무위험 수익률\n",
    "# 사후적 샤프 비율 ex-post Sharpe ratio\n",
    "# 공식은 같지만 자산의 실현 수익률을 사용한다는 점에서 샤프 지수와 다름\n",
    "# 실현 수익률의 산술 평균 / 실현 수익률의 변동성으로 계산함\n",
    "Sharpe = np.mean(price_df['daily_rtn']) / np.std(price_df['daily_rtn']) * np.sqrt(252.)\n",
    "Sharpe"
   ]
  },
  {
   "cell_type": "code",
   "execution_count": null,
   "metadata": {},
   "outputs": [],
   "source": [
    "import threading, time, signal\n",
    "from datetime import timedelta\n",
    "\n",
    "wait_time_seconds = 1\n",
    "\n",
    "class ProgramKilled(Exception):\n",
    "    pass\n",
    "\n",
    "def foo():\n",
    "    print(time.ctime())\n",
    "\n",
    "def signal_handler(signum, frame):\n",
    "    raise ProgramKilled\n",
    "\n",
    "class Job(threading.Thread):\n",
    "    def __init__(self, interval, execute, *args, **kwargs):\n",
    "        threading.Thread.__init__(self)\n",
    "        self.daemon = False\n",
    "        self.stopped = threading.Event()\n",
    "        self.interval = interval\n",
    "        self.execute = execute\n",
    "        self.args = args\n",
    "        self.kwargs = kwargs\n",
    "    \n",
    "    def stop(self):\n",
    "        self.stopped.set()\n",
    "        self.join()\n",
    "\n",
    "    def run(self):\n",
    "        while not self.stopeed.wait(self.interval.total_seconds()):\n",
    "            self.execute(*self.args, **self.kwargs)\n",
    "\n",
    "\n",
    "if __name__ == \"__main__\":\n",
    "    signal.signal(signal.SIGTERM, signal_handler)\n",
    "    signal.signal(signal.SIGINT, signal_handler)\n",
    "    job = Job(interval=timedelta(seconds=wait_time_seconds), execute=foo)\n",
    "    job.start()\n",
    "\n",
    "    while True:\n",
    "        try:\n",
    "            time.sleep(1)\n",
    "        except ProgramKilled:\n",
    "            print(\"Program killed: running cleanup code\")\n",
    "            job.stop()\n",
    "            break"
   ]
  },
  {
   "cell_type": "code",
   "execution_count": 2,
   "metadata": {},
   "outputs": [
    {
     "name": "stdout",
     "output_type": "stream",
     "text": [
      "<Response [200]>\n"
     ]
    }
   ],
   "source": [
    "import requests\n",
    "from public_data_config import apisdata\n",
    "\n",
    "def post_message(token, channel, text):\n",
    "    response = requests.post(\"https://slack.com/api/chat.postMessage\",\n",
    "        headers={\"Authorization\": \"Bearer \"+token},\n",
    "        data={\"channel\": channel,\"text\": text}\n",
    "    )\n",
    "    print(response)\n",
    " \n",
    "myToken = apisdata['slack']['token']\n",
    "channel = apisdata['slack']['channel']\n",
    " \n",
    "post_message(myToken,channel,\"test_message\")"
   ]
  },
  {
   "cell_type": "code",
   "execution_count": null,
   "metadata": {},
   "outputs": [],
   "source": []
  }
 ],
 "metadata": {
  "interpreter": {
   "hash": "1baa965d5efe3ac65b79dfc60c0d706280b1da80fedb7760faf2759126c4f253"
  },
  "kernelspec": {
   "display_name": "Python 3.8.10 64-bit",
   "name": "python3"
  },
  "language_info": {
   "codemirror_mode": {
    "name": "ipython",
    "version": 3
   },
   "file_extension": ".py",
   "mimetype": "text/x-python",
   "name": "python",
   "nbconvert_exporter": "python",
   "pygments_lexer": "ipython3",
   "version": "3.8.10"
  },
  "orig_nbformat": 4
 },
 "nbformat": 4,
 "nbformat_minor": 2
}
