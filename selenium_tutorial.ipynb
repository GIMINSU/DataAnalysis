{
 "cells": [
  {
   "cell_type": "code",
   "execution_count": 1,
   "metadata": {},
   "outputs": [],
   "source": [
    "from datetime import datetime\n",
    "from selenium import webdriver\n",
    "from selenium.webdriver.common.by import By\n",
    "\n",
    "# pip install webdriver-manager  ## 항상 최신 버전의 chromedriver를 자동으로 사용\n",
    "from webdriver_manager.chrome import ChromeDriverManager\n",
    "from slack_message import _post_message\n",
    "from slack_sdk_message_post import _post_message_with_slack_sdk"
   ]
  },
  {
   "cell_type": "code",
   "execution_count": 2,
   "metadata": {},
   "outputs": [
    {
     "name": "stdout",
     "output_type": "stream",
     "text": [
      "\n"
     ]
    },
    {
     "name": "stderr",
     "output_type": "stream",
     "text": [
      "[WDM] - ====== WebDriver manager ======\n",
      "[WDM] - Current google-chrome version is 102.0.5005\n",
      "[WDM] - Get LATEST chromedriver version for 102.0.5005 google-chrome\n",
      "[WDM] - Driver [C:\\Users\\senti\\.wdm\\drivers\\chromedriver\\win32\\102.0.5005.61\\chromedriver.exe] found in cache\n",
      "C:\\Users\\senti\\AppData\\Local\\Temp\\ipykernel_6212\\3721225242.py:1: DeprecationWarning: executable_path has been deprecated, please pass in a Service object\n",
      "  driver = webdriver.Chrome(ChromeDriverManager().install())\n"
     ]
    }
   ],
   "source": [
    "driver = webdriver.Chrome(ChromeDriverManager().install())\n",
    "driver.implicitly_wait(10)\n",
    "url = \"https://www.smes.go.kr/sanhakin/websquare/wq_main.do\"\n",
    "# url = \"https://www.mss.go.kr/site/gyeonggi/ex/bbs/List.do?cbIdx=323\"\n",
    "driver.get(url)"
   ]
  },
  {
   "cell_type": "code",
   "execution_count": 14,
   "metadata": {},
   "outputs": [
    {
     "ename": "InvalidSelectorException",
     "evalue": "Message: invalid selector: Unable to locate an element with the xpath expression //*[@id, 'popup'] because of the following error:\nSyntaxError: Failed to execute 'evaluate' on 'Document': The string '//*[@id, 'popup']' is not a valid XPath expression.\n  (Session info: chrome=102.0.5005.115)\nStacktrace:\nBacktrace:\n\tOrdinal0 [0x008CD953+2414931]\n\tOrdinal0 [0x0085F5E1+1963489]\n\tOrdinal0 [0x0074C6B8+837304]\n\tOrdinal0 [0x0074F0B4+848052]\n\tOrdinal0 [0x0074EF72+847730]\n\tOrdinal0 [0x0074F200+848384]\n\tOrdinal0 [0x00779215+1020437]\n\tOrdinal0 [0x0077979B+1021851]\n\tOrdinal0 [0x007A6502+1205506]\n\tOrdinal0 [0x007944E4+1131748]\n\tOrdinal0 [0x007A4812+1198098]\n\tOrdinal0 [0x007942B6+1131190]\n\tOrdinal0 [0x0076E860+976992]\n\tOrdinal0 [0x0076F756+980822]\n\tGetHandleVerifier [0x00B3CC62+2510274]\n\tGetHandleVerifier [0x00B2F760+2455744]\n\tGetHandleVerifier [0x0095EABA+551962]\n\tGetHandleVerifier [0x0095D916+547446]\n\tOrdinal0 [0x00865F3B+1990459]\n\tOrdinal0 [0x0086A898+2009240]\n\tOrdinal0 [0x0086A985+2009477]\n\tOrdinal0 [0x00873AD1+2046673]\n\tBaseThreadInitThunk [0x769DFA29+25]\n\tRtlGetAppContainerNamedObjectPath [0x77D77A7E+286]\n\tRtlGetAppContainerNamedObjectPath [0x77D77A4E+238]\n",
     "output_type": "error",
     "traceback": [
      "\u001b[1;31m---------------------------------------------------------------------------\u001b[0m",
      "\u001b[1;31mInvalidSelectorException\u001b[0m                  Traceback (most recent call last)",
      "\u001b[1;32mc:\\Users\\senti\\DataAnalysis\\selenium_tutorial.ipynb Cell 3'\u001b[0m in \u001b[0;36m<cell line: 1>\u001b[1;34m()\u001b[0m\n\u001b[1;32m----> <a href='vscode-notebook-cell:/c%3A/Users/senti/DataAnalysis/selenium_tutorial.ipynb#ch0000020?line=0'>1</a>\u001b[0m driver\u001b[39m.\u001b[39;49mfind_element(By\u001b[39m.\u001b[39;49mXPATH, \u001b[39m\"\u001b[39;49m\u001b[39m//*[@id, \u001b[39;49m\u001b[39m'\u001b[39;49m\u001b[39mpopup\u001b[39;49m\u001b[39m'\u001b[39;49m\u001b[39m]\u001b[39;49m\u001b[39m\"\u001b[39;49m)\n",
      "File \u001b[1;32mc:\\Users\\senti\\AppData\\Local\\Programs\\Python\\Python310\\lib\\site-packages\\selenium\\webdriver\\remote\\webdriver.py:1251\u001b[0m, in \u001b[0;36mWebDriver.find_element\u001b[1;34m(self, by, value)\u001b[0m\n\u001b[0;32m   1248\u001b[0m     by \u001b[39m=\u001b[39m By\u001b[39m.\u001b[39mCSS_SELECTOR\n\u001b[0;32m   1249\u001b[0m     value \u001b[39m=\u001b[39m \u001b[39m'\u001b[39m\u001b[39m[name=\u001b[39m\u001b[39m\"\u001b[39m\u001b[39m%s\u001b[39;00m\u001b[39m\"\u001b[39m\u001b[39m]\u001b[39m\u001b[39m'\u001b[39m \u001b[39m%\u001b[39m value\n\u001b[1;32m-> 1251\u001b[0m \u001b[39mreturn\u001b[39;00m \u001b[39mself\u001b[39;49m\u001b[39m.\u001b[39;49mexecute(Command\u001b[39m.\u001b[39;49mFIND_ELEMENT, {\n\u001b[0;32m   1252\u001b[0m     \u001b[39m'\u001b[39;49m\u001b[39musing\u001b[39;49m\u001b[39m'\u001b[39;49m: by,\n\u001b[0;32m   1253\u001b[0m     \u001b[39m'\u001b[39;49m\u001b[39mvalue\u001b[39;49m\u001b[39m'\u001b[39;49m: value})[\u001b[39m'\u001b[39m\u001b[39mvalue\u001b[39m\u001b[39m'\u001b[39m]\n",
      "File \u001b[1;32mc:\\Users\\senti\\AppData\\Local\\Programs\\Python\\Python310\\lib\\site-packages\\selenium\\webdriver\\remote\\webdriver.py:430\u001b[0m, in \u001b[0;36mWebDriver.execute\u001b[1;34m(self, driver_command, params)\u001b[0m\n\u001b[0;32m    428\u001b[0m response \u001b[39m=\u001b[39m \u001b[39mself\u001b[39m\u001b[39m.\u001b[39mcommand_executor\u001b[39m.\u001b[39mexecute(driver_command, params)\n\u001b[0;32m    429\u001b[0m \u001b[39mif\u001b[39;00m response:\n\u001b[1;32m--> 430\u001b[0m     \u001b[39mself\u001b[39;49m\u001b[39m.\u001b[39;49merror_handler\u001b[39m.\u001b[39;49mcheck_response(response)\n\u001b[0;32m    431\u001b[0m     response[\u001b[39m'\u001b[39m\u001b[39mvalue\u001b[39m\u001b[39m'\u001b[39m] \u001b[39m=\u001b[39m \u001b[39mself\u001b[39m\u001b[39m.\u001b[39m_unwrap_value(\n\u001b[0;32m    432\u001b[0m         response\u001b[39m.\u001b[39mget(\u001b[39m'\u001b[39m\u001b[39mvalue\u001b[39m\u001b[39m'\u001b[39m, \u001b[39mNone\u001b[39;00m))\n\u001b[0;32m    433\u001b[0m     \u001b[39mreturn\u001b[39;00m response\n",
      "File \u001b[1;32mc:\\Users\\senti\\AppData\\Local\\Programs\\Python\\Python310\\lib\\site-packages\\selenium\\webdriver\\remote\\errorhandler.py:247\u001b[0m, in \u001b[0;36mErrorHandler.check_response\u001b[1;34m(self, response)\u001b[0m\n\u001b[0;32m    245\u001b[0m         alert_text \u001b[39m=\u001b[39m value[\u001b[39m'\u001b[39m\u001b[39malert\u001b[39m\u001b[39m'\u001b[39m]\u001b[39m.\u001b[39mget(\u001b[39m'\u001b[39m\u001b[39mtext\u001b[39m\u001b[39m'\u001b[39m)\n\u001b[0;32m    246\u001b[0m     \u001b[39mraise\u001b[39;00m exception_class(message, screen, stacktrace, alert_text)  \u001b[39m# type: ignore[call-arg]  # mypy is not smart enough here\u001b[39;00m\n\u001b[1;32m--> 247\u001b[0m \u001b[39mraise\u001b[39;00m exception_class(message, screen, stacktrace)\n",
      "\u001b[1;31mInvalidSelectorException\u001b[0m: Message: invalid selector: Unable to locate an element with the xpath expression //*[@id, 'popup'] because of the following error:\nSyntaxError: Failed to execute 'evaluate' on 'Document': The string '//*[@id, 'popup']' is not a valid XPath expression.\n  (Session info: chrome=102.0.5005.115)\nStacktrace:\nBacktrace:\n\tOrdinal0 [0x008CD953+2414931]\n\tOrdinal0 [0x0085F5E1+1963489]\n\tOrdinal0 [0x0074C6B8+837304]\n\tOrdinal0 [0x0074F0B4+848052]\n\tOrdinal0 [0x0074EF72+847730]\n\tOrdinal0 [0x0074F200+848384]\n\tOrdinal0 [0x00779215+1020437]\n\tOrdinal0 [0x0077979B+1021851]\n\tOrdinal0 [0x007A6502+1205506]\n\tOrdinal0 [0x007944E4+1131748]\n\tOrdinal0 [0x007A4812+1198098]\n\tOrdinal0 [0x007942B6+1131190]\n\tOrdinal0 [0x0076E860+976992]\n\tOrdinal0 [0x0076F756+980822]\n\tGetHandleVerifier [0x00B3CC62+2510274]\n\tGetHandleVerifier [0x00B2F760+2455744]\n\tGetHandleVerifier [0x0095EABA+551962]\n\tGetHandleVerifier [0x0095D916+547446]\n\tOrdinal0 [0x00865F3B+1990459]\n\tOrdinal0 [0x0086A898+2009240]\n\tOrdinal0 [0x0086A985+2009477]\n\tOrdinal0 [0x00873AD1+2046673]\n\tBaseThreadInitThunk [0x769DFA29+25]\n\tRtlGetAppContainerNamedObjectPath [0x77D77A7E+286]\n\tRtlGetAppContainerNamedObjectPath [0x77D77A4E+238]\n"
     ]
    }
   ],
   "source": [
    "driver.find_element(By.XPATH, \"//*[@id, 'popup']\")"
   ]
  },
  {
   "cell_type": "code",
   "execution_count": 71,
   "metadata": {},
   "outputs": [
    {
     "data": {
      "text/plain": [
       "'39e3882a-e181-4490-aaf8-a3ba235de6ed'"
      ]
     },
     "execution_count": 71,
     "metadata": {},
     "output_type": "execute_result"
    }
   ],
   "source": [
    "target_element = None\n",
    "for p in popup_elements:\n",
    "    for c in close_elements:\n",
    "        if p.id == c.id:\n",
    "            target_element = p.id\n",
    "\n",
    "target_element"
   ]
  },
  {
   "cell_type": "code",
   "execution_count": 74,
   "metadata": {},
   "outputs": [
    {
     "ename": "NoSuchElementException",
     "evalue": "Message: no such element: Unable to locate element: {\"method\":\"css selector\",\"selector\":\"[id=\"39e3882a-e181-4490-aaf8-a3ba235de6ed\"]\"}\n  (Session info: chrome=102.0.5005.115)\nStacktrace:\nBacktrace:\n\tOrdinal0 [0x008CD953+2414931]\n\tOrdinal0 [0x0085F5E1+1963489]\n\tOrdinal0 [0x0074C6B8+837304]\n\tOrdinal0 [0x00779500+1021184]\n\tOrdinal0 [0x0077979B+1021851]\n\tOrdinal0 [0x007A6502+1205506]\n\tOrdinal0 [0x007944E4+1131748]\n\tOrdinal0 [0x007A4812+1198098]\n\tOrdinal0 [0x007942B6+1131190]\n\tOrdinal0 [0x0076E860+976992]\n\tOrdinal0 [0x0076F756+980822]\n\tGetHandleVerifier [0x00B3CC62+2510274]\n\tGetHandleVerifier [0x00B2F760+2455744]\n\tGetHandleVerifier [0x0095EABA+551962]\n\tGetHandleVerifier [0x0095D916+547446]\n\tOrdinal0 [0x00865F3B+1990459]\n\tOrdinal0 [0x0086A898+2009240]\n\tOrdinal0 [0x0086A985+2009477]\n\tOrdinal0 [0x00873AD1+2046673]\n\tBaseThreadInitThunk [0x769DFA29+25]\n\tRtlGetAppContainerNamedObjectPath [0x77D77A7E+286]\n\tRtlGetAppContainerNamedObjectPath [0x77D77A4E+238]\n",
     "output_type": "error",
     "traceback": [
      "\u001b[1;31m---------------------------------------------------------------------------\u001b[0m",
      "\u001b[1;31mNoSuchElementException\u001b[0m                    Traceback (most recent call last)",
      "\u001b[1;32mc:\\Users\\senti\\DataAnalysis\\selenium_tutorial.ipynb Cell 5'\u001b[0m in \u001b[0;36m<cell line: 1>\u001b[1;34m()\u001b[0m\n\u001b[1;32m----> <a href='vscode-notebook-cell:/c%3A/Users/senti/DataAnalysis/selenium_tutorial.ipynb#ch0000021?line=0'>1</a>\u001b[0m driver\u001b[39m.\u001b[39;49mfind_element(By\u001b[39m.\u001b[39;49mID, target_element)\n",
      "File \u001b[1;32mc:\\Users\\senti\\AppData\\Local\\Programs\\Python\\Python310\\lib\\site-packages\\selenium\\webdriver\\remote\\webdriver.py:1251\u001b[0m, in \u001b[0;36mWebDriver.find_element\u001b[1;34m(self, by, value)\u001b[0m\n\u001b[0;32m   1248\u001b[0m     by \u001b[39m=\u001b[39m By\u001b[39m.\u001b[39mCSS_SELECTOR\n\u001b[0;32m   1249\u001b[0m     value \u001b[39m=\u001b[39m \u001b[39m'\u001b[39m\u001b[39m[name=\u001b[39m\u001b[39m\"\u001b[39m\u001b[39m%s\u001b[39;00m\u001b[39m\"\u001b[39m\u001b[39m]\u001b[39m\u001b[39m'\u001b[39m \u001b[39m%\u001b[39m value\n\u001b[1;32m-> 1251\u001b[0m \u001b[39mreturn\u001b[39;00m \u001b[39mself\u001b[39;49m\u001b[39m.\u001b[39;49mexecute(Command\u001b[39m.\u001b[39;49mFIND_ELEMENT, {\n\u001b[0;32m   1252\u001b[0m     \u001b[39m'\u001b[39;49m\u001b[39musing\u001b[39;49m\u001b[39m'\u001b[39;49m: by,\n\u001b[0;32m   1253\u001b[0m     \u001b[39m'\u001b[39;49m\u001b[39mvalue\u001b[39;49m\u001b[39m'\u001b[39;49m: value})[\u001b[39m'\u001b[39m\u001b[39mvalue\u001b[39m\u001b[39m'\u001b[39m]\n",
      "File \u001b[1;32mc:\\Users\\senti\\AppData\\Local\\Programs\\Python\\Python310\\lib\\site-packages\\selenium\\webdriver\\remote\\webdriver.py:430\u001b[0m, in \u001b[0;36mWebDriver.execute\u001b[1;34m(self, driver_command, params)\u001b[0m\n\u001b[0;32m    428\u001b[0m response \u001b[39m=\u001b[39m \u001b[39mself\u001b[39m\u001b[39m.\u001b[39mcommand_executor\u001b[39m.\u001b[39mexecute(driver_command, params)\n\u001b[0;32m    429\u001b[0m \u001b[39mif\u001b[39;00m response:\n\u001b[1;32m--> 430\u001b[0m     \u001b[39mself\u001b[39;49m\u001b[39m.\u001b[39;49merror_handler\u001b[39m.\u001b[39;49mcheck_response(response)\n\u001b[0;32m    431\u001b[0m     response[\u001b[39m'\u001b[39m\u001b[39mvalue\u001b[39m\u001b[39m'\u001b[39m] \u001b[39m=\u001b[39m \u001b[39mself\u001b[39m\u001b[39m.\u001b[39m_unwrap_value(\n\u001b[0;32m    432\u001b[0m         response\u001b[39m.\u001b[39mget(\u001b[39m'\u001b[39m\u001b[39mvalue\u001b[39m\u001b[39m'\u001b[39m, \u001b[39mNone\u001b[39;00m))\n\u001b[0;32m    433\u001b[0m     \u001b[39mreturn\u001b[39;00m response\n",
      "File \u001b[1;32mc:\\Users\\senti\\AppData\\Local\\Programs\\Python\\Python310\\lib\\site-packages\\selenium\\webdriver\\remote\\errorhandler.py:247\u001b[0m, in \u001b[0;36mErrorHandler.check_response\u001b[1;34m(self, response)\u001b[0m\n\u001b[0;32m    245\u001b[0m         alert_text \u001b[39m=\u001b[39m value[\u001b[39m'\u001b[39m\u001b[39malert\u001b[39m\u001b[39m'\u001b[39m]\u001b[39m.\u001b[39mget(\u001b[39m'\u001b[39m\u001b[39mtext\u001b[39m\u001b[39m'\u001b[39m)\n\u001b[0;32m    246\u001b[0m     \u001b[39mraise\u001b[39;00m exception_class(message, screen, stacktrace, alert_text)  \u001b[39m# type: ignore[call-arg]  # mypy is not smart enough here\u001b[39;00m\n\u001b[1;32m--> 247\u001b[0m \u001b[39mraise\u001b[39;00m exception_class(message, screen, stacktrace)\n",
      "\u001b[1;31mNoSuchElementException\u001b[0m: Message: no such element: Unable to locate element: {\"method\":\"css selector\",\"selector\":\"[id=\"39e3882a-e181-4490-aaf8-a3ba235de6ed\"]\"}\n  (Session info: chrome=102.0.5005.115)\nStacktrace:\nBacktrace:\n\tOrdinal0 [0x008CD953+2414931]\n\tOrdinal0 [0x0085F5E1+1963489]\n\tOrdinal0 [0x0074C6B8+837304]\n\tOrdinal0 [0x00779500+1021184]\n\tOrdinal0 [0x0077979B+1021851]\n\tOrdinal0 [0x007A6502+1205506]\n\tOrdinal0 [0x007944E4+1131748]\n\tOrdinal0 [0x007A4812+1198098]\n\tOrdinal0 [0x007942B6+1131190]\n\tOrdinal0 [0x0076E860+976992]\n\tOrdinal0 [0x0076F756+980822]\n\tGetHandleVerifier [0x00B3CC62+2510274]\n\tGetHandleVerifier [0x00B2F760+2455744]\n\tGetHandleVerifier [0x0095EABA+551962]\n\tGetHandleVerifier [0x0095D916+547446]\n\tOrdinal0 [0x00865F3B+1990459]\n\tOrdinal0 [0x0086A898+2009240]\n\tOrdinal0 [0x0086A985+2009477]\n\tOrdinal0 [0x00873AD1+2046673]\n\tBaseThreadInitThunk [0x769DFA29+25]\n\tRtlGetAppContainerNamedObjectPath [0x77D77A7E+286]\n\tRtlGetAppContainerNamedObjectPath [0x77D77A4E+238]\n"
     ]
    }
   ],
   "source": [
    "driver.find_element(By.ID, target_element)"
   ]
  },
  {
   "cell_type": "code",
   "execution_count": 72,
   "metadata": {},
   "outputs": [
    {
     "ename": "NoSuchElementException",
     "evalue": "Message: no such element: Unable to locate element: {\"method\":\"css selector\",\"selector\":\"[id=\"39e3882a-e181-4490-aaf8-a3ba235de6ed\"]\"}\n  (Session info: chrome=102.0.5005.115)\nStacktrace:\nBacktrace:\n\tOrdinal0 [0x008CD953+2414931]\n\tOrdinal0 [0x0085F5E1+1963489]\n\tOrdinal0 [0x0074C6B8+837304]\n\tOrdinal0 [0x00779500+1021184]\n\tOrdinal0 [0x0077979B+1021851]\n\tOrdinal0 [0x007A6502+1205506]\n\tOrdinal0 [0x007944E4+1131748]\n\tOrdinal0 [0x007A4812+1198098]\n\tOrdinal0 [0x007942B6+1131190]\n\tOrdinal0 [0x0076E860+976992]\n\tOrdinal0 [0x0076F756+980822]\n\tGetHandleVerifier [0x00B3CC62+2510274]\n\tGetHandleVerifier [0x00B2F760+2455744]\n\tGetHandleVerifier [0x0095EABA+551962]\n\tGetHandleVerifier [0x0095D916+547446]\n\tOrdinal0 [0x00865F3B+1990459]\n\tOrdinal0 [0x0086A898+2009240]\n\tOrdinal0 [0x0086A985+2009477]\n\tOrdinal0 [0x00873AD1+2046673]\n\tBaseThreadInitThunk [0x769DFA29+25]\n\tRtlGetAppContainerNamedObjectPath [0x77D77A7E+286]\n\tRtlGetAppContainerNamedObjectPath [0x77D77A4E+238]\n",
     "output_type": "error",
     "traceback": [
      "\u001b[1;31m---------------------------------------------------------------------------\u001b[0m",
      "\u001b[1;31mNoSuchElementException\u001b[0m                    Traceback (most recent call last)",
      "\u001b[1;32mc:\\Users\\senti\\DataAnalysis\\selenium_tutorial.ipynb Cell 6'\u001b[0m in \u001b[0;36m<cell line: 1>\u001b[1;34m()\u001b[0m\n\u001b[1;32m----> <a href='vscode-notebook-cell:/c%3A/Users/senti/DataAnalysis/selenium_tutorial.ipynb#ch0000022?line=0'>1</a>\u001b[0m driver\u001b[39m.\u001b[39;49mfind_element(By\u001b[39m.\u001b[39;49mID, \u001b[39m'\u001b[39;49m\u001b[39m39e3882a-e181-4490-aaf8-a3ba235de6ed\u001b[39;49m\u001b[39m'\u001b[39;49m)\u001b[39m.\u001b[39mclick()\n",
      "File \u001b[1;32mc:\\Users\\senti\\AppData\\Local\\Programs\\Python\\Python310\\lib\\site-packages\\selenium\\webdriver\\remote\\webdriver.py:1251\u001b[0m, in \u001b[0;36mWebDriver.find_element\u001b[1;34m(self, by, value)\u001b[0m\n\u001b[0;32m   1248\u001b[0m     by \u001b[39m=\u001b[39m By\u001b[39m.\u001b[39mCSS_SELECTOR\n\u001b[0;32m   1249\u001b[0m     value \u001b[39m=\u001b[39m \u001b[39m'\u001b[39m\u001b[39m[name=\u001b[39m\u001b[39m\"\u001b[39m\u001b[39m%s\u001b[39;00m\u001b[39m\"\u001b[39m\u001b[39m]\u001b[39m\u001b[39m'\u001b[39m \u001b[39m%\u001b[39m value\n\u001b[1;32m-> 1251\u001b[0m \u001b[39mreturn\u001b[39;00m \u001b[39mself\u001b[39;49m\u001b[39m.\u001b[39;49mexecute(Command\u001b[39m.\u001b[39;49mFIND_ELEMENT, {\n\u001b[0;32m   1252\u001b[0m     \u001b[39m'\u001b[39;49m\u001b[39musing\u001b[39;49m\u001b[39m'\u001b[39;49m: by,\n\u001b[0;32m   1253\u001b[0m     \u001b[39m'\u001b[39;49m\u001b[39mvalue\u001b[39;49m\u001b[39m'\u001b[39;49m: value})[\u001b[39m'\u001b[39m\u001b[39mvalue\u001b[39m\u001b[39m'\u001b[39m]\n",
      "File \u001b[1;32mc:\\Users\\senti\\AppData\\Local\\Programs\\Python\\Python310\\lib\\site-packages\\selenium\\webdriver\\remote\\webdriver.py:430\u001b[0m, in \u001b[0;36mWebDriver.execute\u001b[1;34m(self, driver_command, params)\u001b[0m\n\u001b[0;32m    428\u001b[0m response \u001b[39m=\u001b[39m \u001b[39mself\u001b[39m\u001b[39m.\u001b[39mcommand_executor\u001b[39m.\u001b[39mexecute(driver_command, params)\n\u001b[0;32m    429\u001b[0m \u001b[39mif\u001b[39;00m response:\n\u001b[1;32m--> 430\u001b[0m     \u001b[39mself\u001b[39;49m\u001b[39m.\u001b[39;49merror_handler\u001b[39m.\u001b[39;49mcheck_response(response)\n\u001b[0;32m    431\u001b[0m     response[\u001b[39m'\u001b[39m\u001b[39mvalue\u001b[39m\u001b[39m'\u001b[39m] \u001b[39m=\u001b[39m \u001b[39mself\u001b[39m\u001b[39m.\u001b[39m_unwrap_value(\n\u001b[0;32m    432\u001b[0m         response\u001b[39m.\u001b[39mget(\u001b[39m'\u001b[39m\u001b[39mvalue\u001b[39m\u001b[39m'\u001b[39m, \u001b[39mNone\u001b[39;00m))\n\u001b[0;32m    433\u001b[0m     \u001b[39mreturn\u001b[39;00m response\n",
      "File \u001b[1;32mc:\\Users\\senti\\AppData\\Local\\Programs\\Python\\Python310\\lib\\site-packages\\selenium\\webdriver\\remote\\errorhandler.py:247\u001b[0m, in \u001b[0;36mErrorHandler.check_response\u001b[1;34m(self, response)\u001b[0m\n\u001b[0;32m    245\u001b[0m         alert_text \u001b[39m=\u001b[39m value[\u001b[39m'\u001b[39m\u001b[39malert\u001b[39m\u001b[39m'\u001b[39m]\u001b[39m.\u001b[39mget(\u001b[39m'\u001b[39m\u001b[39mtext\u001b[39m\u001b[39m'\u001b[39m)\n\u001b[0;32m    246\u001b[0m     \u001b[39mraise\u001b[39;00m exception_class(message, screen, stacktrace, alert_text)  \u001b[39m# type: ignore[call-arg]  # mypy is not smart enough here\u001b[39;00m\n\u001b[1;32m--> 247\u001b[0m \u001b[39mraise\u001b[39;00m exception_class(message, screen, stacktrace)\n",
      "\u001b[1;31mNoSuchElementException\u001b[0m: Message: no such element: Unable to locate element: {\"method\":\"css selector\",\"selector\":\"[id=\"39e3882a-e181-4490-aaf8-a3ba235de6ed\"]\"}\n  (Session info: chrome=102.0.5005.115)\nStacktrace:\nBacktrace:\n\tOrdinal0 [0x008CD953+2414931]\n\tOrdinal0 [0x0085F5E1+1963489]\n\tOrdinal0 [0x0074C6B8+837304]\n\tOrdinal0 [0x00779500+1021184]\n\tOrdinal0 [0x0077979B+1021851]\n\tOrdinal0 [0x007A6502+1205506]\n\tOrdinal0 [0x007944E4+1131748]\n\tOrdinal0 [0x007A4812+1198098]\n\tOrdinal0 [0x007942B6+1131190]\n\tOrdinal0 [0x0076E860+976992]\n\tOrdinal0 [0x0076F756+980822]\n\tGetHandleVerifier [0x00B3CC62+2510274]\n\tGetHandleVerifier [0x00B2F760+2455744]\n\tGetHandleVerifier [0x0095EABA+551962]\n\tGetHandleVerifier [0x0095D916+547446]\n\tOrdinal0 [0x00865F3B+1990459]\n\tOrdinal0 [0x0086A898+2009240]\n\tOrdinal0 [0x0086A985+2009477]\n\tOrdinal0 [0x00873AD1+2046673]\n\tBaseThreadInitThunk [0x769DFA29+25]\n\tRtlGetAppContainerNamedObjectPath [0x77D77A7E+286]\n\tRtlGetAppContainerNamedObjectPath [0x77D77A4E+238]\n"
     ]
    }
   ],
   "source": [
    "driver.find_element(By.ID, '39e3882a-e181-4490-aaf8-a3ba235de6ed').click()"
   ]
  },
  {
   "cell_type": "code",
   "execution_count": 12,
   "metadata": {},
   "outputs": [
    {
     "data": {
      "text/plain": [
       "<selenium.webdriver.remote.webelement.WebElement (session=\"7f921476ab1cf2abac9cd20f85b0e58b\", element=\"960923a6-bb1e-4134-ba19-7f1ef12b5561\")>"
      ]
     },
     "execution_count": 12,
     "metadata": {},
     "output_type": "execute_result"
    }
   ],
   "source": [
    "driver.find_element(By.XPATH, '//*[contains(@id, \"popup\")]')"
   ]
  },
  {
   "cell_type": "code",
   "execution_count": 3,
   "metadata": {},
   "outputs": [
    {
     "name": "stdout",
     "output_type": "stream",
     "text": [
      "1\n"
     ]
    }
   ],
   "source": [
    "tabs = driver.window_handles\n",
    "print(len(tabs))"
   ]
  },
  {
   "cell_type": "code",
   "execution_count": 7,
   "metadata": {},
   "outputs": [],
   "source": [
    "driver.switch_to.window(tabs[0])"
   ]
  },
  {
   "cell_type": "code",
   "execution_count": 9,
   "metadata": {},
   "outputs": [],
   "source": [
    "driver.find_element(By.XPATH, '//*[@id=\"popup_521_close\"]').click()"
   ]
  },
  {
   "cell_type": "code",
   "execution_count": 10,
   "metadata": {},
   "outputs": [],
   "source": [
    "driver.find_element(By.XPATH, '//*[@id=\"genTopMenu_2_liTopMenu\"]').click()"
   ]
  },
  {
   "cell_type": "code",
   "execution_count": null,
   "metadata": {},
   "outputs": [],
   "source": []
  },
  {
   "cell_type": "code",
   "execution_count": null,
   "metadata": {},
   "outputs": [],
   "source": [
    "from oauth2client.service_account import ServiceAccountCredentials\n",
    "import gspread\n",
    "\n",
    "scope = [\n",
    "    \"https://spreadsheets.google.com/feeds\",\n",
    "    \"https://www.googleapis.com/auth/drive\",\n",
    "]\n",
    "\n",
    "json_key_path = \"C:/Users/senti/Downloads/test1203-50829129-4c942ce19e74.json\"\n",
    "credential = ServiceAccountCredentials.from_json_keyfile_name(json_key_path, scope)\n",
    "gc = gspread.authorize(credential)"
   ]
  },
  {
   "cell_type": "code",
   "execution_count": 11,
   "metadata": {},
   "outputs": [],
   "source": [
    "driver.find_element(By.XPATH, '//*[@id=\"genLeftMenu_3_leftMenuGrp\"]').click()"
   ]
  },
  {
   "cell_type": "code",
   "execution_count": null,
   "metadata": {},
   "outputs": [],
   "source": [
    "# URL로 열기\n",
    "spreadsheet_url = \"https://docs.google.com/spreadsheets/d/1CyFzcQDo6EAweMqazYsC9dW_7vR-PIgV2X8GJB5vVWU/edit#gid=0\"\n",
    "doc = gc.open_by_url(spreadsheet_url).sheet1"
   ]
  },
  {
   "cell_type": "code",
   "execution_count": null,
   "metadata": {},
   "outputs": [],
   "source": [
    "doc.update(\"A1\", [[1,2],[3,4]])"
   ]
  },
  {
   "cell_type": "code",
   "execution_count": 1,
   "metadata": {},
   "outputs": [],
   "source": []
  },
  {
   "cell_type": "code",
   "execution_count": null,
   "metadata": {},
   "outputs": [],
   "source": [
    "yf.Ticker(\"005935.ks\").info[\"sharesOutstanding\"]"
   ]
  },
  {
   "cell_type": "code",
   "execution_count": 2,
   "metadata": {},
   "outputs": [
    {
     "name": "stderr",
     "output_type": "stream",
     "text": [
      "\n",
      "\n",
      "====== WebDriver manager ======\n",
      "Current google-chrome version is 100.0.4896\n",
      "Get LATEST chromedriver version for 100.0.4896 google-chrome\n",
      "Driver [C:\\Users\\senti\\.wdm\\drivers\\chromedriver\\win32\\100.0.4896.60\\chromedriver.exe] found in cache\n"
     ]
    },
    {
     "name": "stdout",
     "output_type": "stream",
     "text": [
      " (경남)'김해 구산 푸르지오 파크테르' 중소기업 장기근속자 주택우선공급 추천 안내\n",
      "2022-04-11 ~ 2022-04-18\n"
     ]
    }
   ],
   "source": [
    "driver = webdriver.Chrome(ChromeDriverManager().install())\n",
    "url = \"https://www.smes.go.kr/sanhakin/websquare/wq_main.do\"\n",
    "driver.get(url)\n",
    "driver.implicitly_wait(10)\n",
    "driver.find_element(By.XPATH, '//*[@id=\"genTopMenu_2_liTopMenu\"]').click()\n",
    "driver.implicitly_wait(1)\n",
    "driver.find_element(By.XPATH, '//*[@id=\"genLeftMenu_3_leftMenuGrp\"]').click()\n",
    "driver.implicitly_wait(1)\n",
    "r_list = []\n",
    "print(driver.find_element_by_css_selector('#gridView1_cell_0_0').text)\n",
    "print(driver.find_element_by_css_selector('#gridView1_cell_0_3').text)\n",
    "# r = driver.find_element(By.ID, 'gridView1_cell_0_0')\n",
    "# soup = BeautifulSoup(r, \"html.parser\")\n",
    "# soup\n",
    "# driver.quit()\n"
   ]
  },
  {
   "cell_type": "code",
   "execution_count": 6,
   "metadata": {},
   "outputs": [
    {
     "name": "stdout",
     "output_type": "stream",
     "text": [
      " (경남)'김해 구산 푸르지오 파크테르' 중소기업 장기근속자 주택우선공급 추천 안내\n",
      " (충북) 서충주 푸르지오 더 퍼스트 아파트 중소기업 장기근속자 주택 특별공급 신청 안내\n",
      " (인천, 일정안내) '주안 센트럴 파라곤' 중소기업 장기근속자 주택 우선공급 추천대상자 발표일정 안내\n",
      " (경기)'e편한세상 지축 센텀가든' 중소기업장기근속자 주택 특별공급 안내\n",
      " (인천, 일정안내) '인천시청역 한신더휴' 중소기업 장기근속자 주택 우선공급 추천대상자 발표일정 안내\n",
      " (전북, 기간추가연장)'익산평화지구 공공분양' 중소기업 장기근속자 주택 우선공급 대상자 추천 계획 알림\n",
      " (부산)'초읍 월드메르디앙 에듀포레' 중소기업장기근속자 주택 특별공급(민간사전청약)안내\n",
      " (부산-일정변경)'센텀 아스트룸 SK VIEW' 중소기업 장기근속자 주택우선공급 추천 일정변경 안내\n",
      " (대구경북-일정연기)'힐스테이트 환호공원 2블럭' 중소기업 장기근속자 주택우선공급 기관추천 안내\n",
      " (대구경북-일정연기)'힐스테이트 환호공원 1블럭' 중소기업 장기근속자 주택우선공급 기관추천 안내\n"
     ]
    }
   ],
   "source": [
    "for i in range(0, 10):\n",
    "    print(driver.find_element_by_css_selector('#gridView1_cell_%s_0'%i).text)"
   ]
  },
  {
   "cell_type": "code",
   "execution_count": null,
   "metadata": {},
   "outputs": [],
   "source": []
  },
  {
   "cell_type": "code",
   "execution_count": 3,
   "metadata": {},
   "outputs": [],
   "source": [
    "a = driver.find_element_by_css_selector('#gridView1_cell_0_3').text"
   ]
  },
  {
   "cell_type": "code",
   "execution_count": 5,
   "metadata": {},
   "outputs": [
    {
     "data": {
      "text/plain": [
       "'2022-04-11'"
      ]
     },
     "execution_count": 5,
     "metadata": {},
     "output_type": "execute_result"
    }
   ],
   "source": [
    "from datetime import datetime\n",
    "a.split(' ')[0]."
   ]
  },
  {
   "cell_type": "code",
   "execution_count": null,
   "metadata": {},
   "outputs": [],
   "source": []
  }
 ],
 "metadata": {
  "kernelspec": {
   "display_name": "Python 3.10.4 64-bit",
   "language": "python",
   "name": "python3"
  },
  "language_info": {
   "codemirror_mode": {
    "name": "ipython",
    "version": 3
   },
   "file_extension": ".py",
   "mimetype": "text/x-python",
   "name": "python",
   "nbconvert_exporter": "python",
   "pygments_lexer": "ipython3",
   "version": "3.10.4"
  },
  "orig_nbformat": 4,
  "vscode": {
   "interpreter": {
    "hash": "e875eb19dd818f3753cc056eeaaaaa13314c317e3ce24557d5f7321c275e6f10"
   }
  }
 },
 "nbformat": 4,
 "nbformat_minor": 2
}
