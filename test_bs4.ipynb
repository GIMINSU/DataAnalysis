{
 "cells": [
  {
   "cell_type": "code",
   "execution_count": 6,
   "metadata": {},
   "outputs": [
    {
     "name": "stderr",
     "output_type": "stream",
     "text": [
      "C:\\Program Files\\Python38\\urllib3\\connectionpool.py:1013: InsecureRequestWarning: Unverified HTTPS request is being made to host 'www.smes.go.kr'. Adding certificate verification is strongly advised. See: https://urllib3.readthedocs.io/en/1.26.x/advanced-usage.html#ssl-warnings\n",
      "  warnings.warn(\n"
     ]
    },
    {
     "data": {
      "text/plain": [
       "<Response [200]>"
      ]
     },
     "execution_count": 6,
     "metadata": {},
     "output_type": "execute_result"
    }
   ],
   "source": [
    "from bs4 import BeautifulSoup as bs\n",
    "import requests\n",
    "\n",
    "url = \"https://www.smes.go.kr/sanhakin/websquare/wq_main.do\"\n",
    "\n",
    "response = requests.get(url, verify=False)\n",
    "response\n",
    "# html_text = response.text\n",
    "\n",
    "# soup = bs(html_text, \"html.parser\")\n",
    "\n",
    "# print(soup.select(\"td\"))"
   ]
  },
  {
   "cell_type": "code",
   "execution_count": 9,
   "metadata": {},
   "outputs": [
    {
     "data": {
      "text/plain": [
       "\n",
       "<!DOCTYPE HTML PUBLIC \"-//W3C//DTD HTML 4.01//EN\" \"http://www.w3.org/TR/html4/strict.dtd\">\n",
       "\n",
       "<html>\n",
       "<head>\n",
       "<meta content=\"text/html; charset=utf-8\" http-equiv=\"Content-Type\"/>\n",
       "<meta content=\"IE=Edge\" http-equiv=\"X-UA-Compatible\"/>\n",
       "<meta content=\"width=device-width\" name=\"viewport\"/>\n",
       "<meta content=\"중소기업진흥공단\" name=\"author\"/>\n",
       "<meta content=\"성과공유, 특성화고, 계약학과, 기술사관, 산학맞춤, 산업기능요원, 인재육성, 주택특별공급 등 사업관리 및 채용정보를 관리\" name=\"description\"/>\n",
       "<meta content=\"산학인, 특성화고, 계약학과, 기술사관, 산학맞춤, 산업기능요원, 인재육성, 주택특별공급, 성과공유, 성과공유제, 미래성과공유제, 성과공유제도, 중소기업, 성과공유협약, 성과공유도입, 일자리평가\" name=\"keywords\"/>\n",
       "<meta content=\"website\" property=\"og:type\"/>\n",
       "<meta content=\"중소기업인력지원사업 종합관리시스템\" property=\"og:title\"/>\n",
       "<meta content=\"성과공유, 특성화고, 계약학과, 기술사관, 산학맞춤, 산업기능요원, 인재육성, 주택특별공급 등 사업관리 및 채용정보를 관리\" property=\"og:description\"/>\n",
       "<meta content=\"https://www.smes.go.kr/sanhakin/resource/images/common/logo_h1_1.png\" property=\"og:image\"/>\n",
       "<meta content=\"https://www.smes.go.kr/sanhakin\" property=\"og:url\"/>\n",
       "<meta content=\"summary\" name=\"twitter:card\"/>\n",
       "<meta content=\"중소기업인력지원사업 종합관리시스템\" name=\"twitter:title\"/>\n",
       "<meta content=\"성과공유, 특성화고, 계약학과, 기술사관, 산학맞춤, 산업기능요원, 인재육성, 주택특별공급 등 사업관리 및 채용정보를 관리\" name=\"twitter:description\"/>\n",
       "<meta content=\"https://www.smes.go.kr/sanhakin/resource/images/common/logo_h1_1.png\" name=\"twitter:image\"/>\n",
       "<meta content=\"https://www.smes.go.kr/sanhakin\" name=\"twitter:domain\"/>\n",
       "<link href=\"https://www.smes.go.kr/sanhakin\" rel=\"canonical\"/>\n",
       "<title>중소기업인력지원사업 종합관리시스템</title>\n",
       "<link href=\"/favicon.ico\" rel=\"shortcut icon\" type=\"image/x-icon\"/>\n",
       "<link href=\"/favicon.ico\" rel=\"icon\" type=\"image/x-icon\"/>\n",
       "<!-- Global site tag (gtag.js) - Google Analytics -->\n",
       "<script async=\"\" src=\"https://www.googletagmanager.com/gtag/js?id=G-ZPRF2XB9YC\"></script>\n",
       "<script>\n",
       "  window.dataLayer = window.dataLayer || [];\n",
       "  function gtag(){dataLayer.push(arguments);}\n",
       "  gtag('js', new Date());\n",
       "\n",
       "  gtag('config', 'G-ZPRF2XB9YC');\n",
       "</script>\n",
       "<script charset=\"utf-8\" src=\"/sanhakin/websquare/javascript.wq?q=/bootloader\" type=\"text/javascript\"></script>\n",
       "<script src=\"https://spi.maps.daum.net/imap/map_js_init/postcode.v2.js\"></script>\n",
       "<script type=\"text/javascript\">\n",
       "    var contextPath = '/sanhakin';\n",
       "    var WebSquareExternal = { \"baseURI\" : \"/websquare/\", \"w2xPath\" : \"/wqxml/cmn/menu/MAIN.xml\" };\n",
       "    \n",
       "    function replaceUrl(url) {\n",
       "        \n",
       "        /* 보안사항 \n",
       "        if(typeof IE_fix != \"undefined\") // IE8 and lower fix to pass the http referer\n",
       "        {\n",
       "            window.location.href = url;\n",
       "        }\n",
       "        else { window.location.replace(url); } // All other browsers\n",
       "        */\n",
       "        \n",
       "        window.location.href = url;\n",
       "    }\n",
       "    \n",
       "    function _visibleHelper(htmlStr) {\n",
       "        \n",
       "        try {\n",
       "            \n",
       "            var wqContainer = document.getElementById('contents');\n",
       "            \n",
       "            if (!wqContainer) {\n",
       "                \n",
       "                alert('Websquare Container is not initialized.');\n",
       "                return false;\n",
       "            }\n",
       "            \n",
       "            wqContainer.innerHTML = htmlStr;\n",
       "            \n",
       "        } catch (e) {\n",
       "            \n",
       "            console.log(e.message);\n",
       "        }\n",
       "    }\n",
       "\n",
       "    gfn_OpenPopup = function(url, options){ \n",
       "        \n",
       "        window.open(url, \"popupMain\" , options );\n",
       "    };\n",
       "    \n",
       "    function init() {\n",
       "        \n",
       "        try{\n",
       "            \n",
       "            history.pushState(null, null, location.href);\n",
       "            \n",
       "            window.onpopstate = function(event) {\n",
       "                \n",
       "                history.go(1);\n",
       "            };\n",
       "            \n",
       "            // 중소벤처24 통합로그인 분기값이 있으면\n",
       "            if( \"1\" == \"null\" || \n",
       "                \"2\" == \"null\" || \n",
       "                \"3\" == \"null\" ||\n",
       "                \"4\" == \"null\" ||\n",
       "                \"5\" == \"null\" ) {\n",
       "                \n",
       "                // 중소벤처24 구분코드 [1:회원가입, 2:로그인, 3:비밀번호 변경]\n",
       "                WebSquare.localStorage.setItem(\"smes_page\",     \"\");\n",
       "                WebSquare.localStorage.setItem(\"MBER_ID\",       \"\");\n",
       "                WebSquare.localStorage.setItem(\"LOGIN_ID\",      \"\");\n",
       "                \n",
       "                // 중소벤처24 상세 공고 파라미터\n",
       "                WebSquare.localStorage.setItem(\"NTTSN\",         \"\");\n",
       "                WebSquare.localStorage.setItem(\"BBSCLCODESE\",   \"\");\n",
       "                WebSquare.localStorage.setItem(\"BSNSCLCODESE\",  \"\");\n",
       "                WebSquare.localStorage.setItem(\"RQST\",          \"\");\n",
       "                WebSquare.localStorage.setItem(\"SMEBSC\",        \"\");\n",
       "                \n",
       "                // 중소벤처24 상세 신청 파라미터\n",
       "                WebSquare.localStorage.setItem(\"REQST_ID\",      \"\");\n",
       "                WebSquare.localStorage.setItem(\"BSNS_ID\",       \"\");\n",
       "                WebSquare.localStorage.setItem(\"REQST_DE\",      \"\");\n",
       "                WebSquare.localStorage.setItem(\"TASK_TY\",       \"\");\n",
       "                WebSquare.localStorage.setItem(\"MMA_NO\",        \"\");\n",
       "                \n",
       "                // 중소벤처24 상세 공고 or 중소벤처24 상세 신청\n",
       "                if( \"4\" == \"null\" || \"5\" == \"null\" ) {\n",
       "\n",
       "                    WebSquare.localStorage.setItem(\"sessLOGIN_ID\",          \"\");\n",
       "                    WebSquare.localStorage.setItem(\"sessMBER_ID\",           \"\");\n",
       "                    WebSquare.localStorage.setItem(\"sessNAME\",              \"\");\n",
       "                    WebSquare.localStorage.setItem(\"sessDEPT_NM\",           \"\");\n",
       "                    WebSquare.localStorage.setItem(\"sessMBER_ROLE_CL\",      \"\");\n",
       "                    WebSquare.localStorage.setItem(\"sessBSNS_CL\",           \"\");\n",
       "                    WebSquare.localStorage.setItem(\"sessPSTINST_ID\",        \"\");\n",
       "                    WebSquare.localStorage.setItem(\"sessROLE_CODE\",         \"\");\n",
       "                    WebSquare.localStorage.setItem(\"sessMBR_CL\",            \"\");\n",
       "                    WebSquare.localStorage.setItem(\"sessADMIN_YN\",          \"\");\n",
       "                    WebSquare.localStorage.setItem(\"sessPORTAL_ADMIN_YN\",   \"\");\n",
       "                    WebSquare.localStorage.setItem(\"sessSURVEY_FLAG\",       \"\");\n",
       "                    \n",
       "                    WebSquare.localStorage.setItem(\"sessWFS_ROLE_CL\",       \"\");\n",
       "                    WebSquare.localStorage.setItem(\"sessUSER_YN\",           \"\");\n",
       "                    WebSquare.localStorage.setItem(\"sessPASSWORD_UPD_YN\",   \"\");\n",
       "                    WebSquare.localStorage.setItem(\"sessBIZR_NO\",           \"\");\n",
       "                    WebSquare.localStorage.setItem(\"sessFIRST_LOGIN_YN\",    \"\");\n",
       "                    \n",
       "                    WebSquare.localStorage.setItem(\"sessUSER_CI\",           \"\");\n",
       "                    WebSquare.localStorage.setItem(\"sessMAX_INCT_INTVAL\",   \"\");\n",
       "                }\n",
       "            }\n",
       "            \n",
       "            if( $wc.util.isEmpty(WebSquare.localStorage.getItem(\"smes_page\")) ) {\n",
       "                \n",
       "                \n",
       "                    WebSquare.localStorage.clear();\n",
       "                \n",
       "            }\n",
       "            \n",
       "            WebSquare.startApplication(WebSquareExternal.w2xPath);\n",
       "            \n",
       "        } catch(e) {\n",
       "            \n",
       "            console.log(e.message);\n",
       "            alert(\"Internet Explorer 9이하의 종합관리시스템이 지원하지 않는 브라우저를 사용하고 계십니다.\\n다른 브라우저나 다른 컴퓨터를 사용하여 접속해 보시기 바랍니다.\");\n",
       "        }\n",
       "    }\n",
       "    \n",
       "    window.onload = init;\n",
       "</script>\n",
       "<link href=\"/sanhakin/api/css/smes-common-menu-1.0.css\" rel=\"stylesheet\" type=\"text/css\"/>\n",
       "<link href=\"/sanhakin/api/css/smes-common-login-1.0.css\" rel=\"stylesheet\" type=\"text/css\"/>\n",
       "<script src=\"https://www.smes.go.kr/smes-api/api/scripts/smes-common-menu-1.0.js\"></script>\n",
       "<script src=\"https://www.smes.go.kr/smes-api/api/scripts/smes-common-login-1.0.js\"></script>\n",
       "</head>\n",
       "<body>\n",
       "<div id=\"contents\"></div>\n",
       "<iframe id=\"hiddenFrame\" style=\"display:none;\"></iframe>\n",
       "</body>\n",
       "</html>"
      ]
     },
     "execution_count": 9,
     "metadata": {},
     "output_type": "execute_result"
    }
   ],
   "source": [
    "html_text = response.text\n",
    "soup = bs(html_text, \"html.parser\")\n",
    "soup"
   ]
  },
  {
   "cell_type": "code",
   "execution_count": 19,
   "metadata": {},
   "outputs": [
    {
     "data": {
      "text/plain": [
       "[]"
      ]
     },
     "execution_count": 19,
     "metadata": {},
     "output_type": "execute_result"
    }
   ],
   "source": [
    "soup.find_all(\"div.contents\")"
   ]
  }
 ],
 "metadata": {
  "interpreter": {
   "hash": "1baa965d5efe3ac65b79dfc60c0d706280b1da80fedb7760faf2759126c4f253"
  },
  "kernelspec": {
   "display_name": "Python 3.8.10 64-bit",
   "language": "python",
   "name": "python3"
  },
  "language_info": {
   "codemirror_mode": {
    "name": "ipython",
    "version": 3
   },
   "file_extension": ".py",
   "mimetype": "text/x-python",
   "name": "python",
   "nbconvert_exporter": "python",
   "pygments_lexer": "ipython3",
   "version": "3.8.10"
  },
  "orig_nbformat": 4
 },
 "nbformat": 4,
 "nbformat_minor": 2
}
